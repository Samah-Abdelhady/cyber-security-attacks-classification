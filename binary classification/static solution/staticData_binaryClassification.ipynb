{
  "nbformat": 4,
  "nbformat_minor": 0,
  "metadata": {
    "colab": {
      "name": "staticData_binaryClassification.ipynb",
      "provenance": [],
      "collapsed_sections": []
    },
    "kernelspec": {
      "display_name": "Python 3",
      "name": "python3"
    },
    "language_info": {
      "name": "python"
    }
  },
  "cells": [
    {
      "cell_type": "markdown",
      "metadata": {
        "id": "q9uv3RwG6JFe"
      },
      "source": [
        "**import important libararies**"
      ]
    },
    {
      "cell_type": "code",
      "metadata": {
        "id": "kZLxQ45f5J3u"
      },
      "source": [
        "import pandas as pd\n",
        "from matplotlib import pyplot as plt\n",
        "import seaborn as sns\n",
        "from google.colab import files\n",
        "import io\n",
        "from sklearn.metrics import plot_confusion_matrix, classification_report, confusion_matrix, accuracy_score\n",
        "import numpy as np\n",
        "from sklearn.model_selection import train_test_split\n",
        "from sklearn.model_selection import cross_val_score\n",
        "from sklearn.tree import DecisionTreeClassifier\n",
        "from sklearn.metrics import accuracy_score\n",
        "from sklearn.metrics import classification_report\n",
        "from sklearn.metrics import confusion_matrix\n",
        "import pickle\n",
        "from sklearn.svm import SVC\n",
        "from imblearn.combine import SMOTETomek\n",
        "from sklearn.metrics import roc_curve\n",
        "from sklearn.neighbors import KNeighborsClassifier\n",
        "from sklearn.preprocessing import StandardScaler"
      ],
      "execution_count": null,
      "outputs": []
    },
    {
      "cell_type": "markdown",
      "metadata": {
        "id": "5poD5Pt56S--"
      },
      "source": [
        "**method for reading data file**"
      ]
    },
    {
      "cell_type": "code",
      "metadata": {
        "id": "yI4cY3rn5S9W"
      },
      "source": [
        "def read_data(file_name):\n",
        "  data = files.upload()\n",
        "  df = pd.read_csv(io.BytesIO(data[file_name]))\n",
        "  return df"
      ],
      "execution_count": null,
      "outputs": []
    },
    {
      "cell_type": "code",
      "metadata": {
        "colab": {
          "resources": {
            "http://localhost:8080/nbextensions/google.colab/files.js": {
              "data": "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",
              "ok": true,
              "headers": [
                [
                  "content-type",
                  "application/javascript"
                ]
              ],
              "status": 200,
              "status_text": ""
            }
          },
          "base_uri": "https://localhost:8080/",
          "height": 72
        },
        "id": "k27AdT0b5VW0",
        "outputId": "26d13486-44cc-4d01-f0d0-45f94caa4182"
      },
      "source": [
        "df = read_data('cicids_static_data.csv')"
      ],
      "execution_count": null,
      "outputs": [
        {
          "output_type": "display_data",
          "data": {
            "text/html": [
              "\n",
              "     <input type=\"file\" id=\"files-13d116d2-3559-4e2e-8b52-7aaf02b87e1e\" name=\"files[]\" multiple disabled\n",
              "        style=\"border:none\" />\n",
              "     <output id=\"result-13d116d2-3559-4e2e-8b52-7aaf02b87e1e\">\n",
              "      Upload widget is only available when the cell has been executed in the\n",
              "      current browser session. Please rerun this cell to enable.\n",
              "      </output>\n",
              "      <script src=\"/nbextensions/google.colab/files.js\"></script> "
            ],
            "text/plain": [
              "<IPython.core.display.HTML object>"
            ]
          },
          "metadata": {}
        },
        {
          "output_type": "stream",
          "name": "stdout",
          "text": [
            "Saving cicids_static_data.csv to cicids_static_data.csv\n"
          ]
        }
      ]
    },
    {
      "cell_type": "code",
      "metadata": {
        "colab": {
          "base_uri": "https://localhost:8080/",
          "height": 496
        },
        "id": "HhQ4KA9dc6Xe",
        "outputId": "ad14c767-4068-444d-e1d7-7f48659ec035"
      },
      "source": [
        "df"
      ],
      "execution_count": null,
      "outputs": [
        {
          "output_type": "execute_result",
          "data": {
            "text/html": [
              "<div>\n",
              "<style scoped>\n",
              "    .dataframe tbody tr th:only-of-type {\n",
              "        vertical-align: middle;\n",
              "    }\n",
              "\n",
              "    .dataframe tbody tr th {\n",
              "        vertical-align: top;\n",
              "    }\n",
              "\n",
              "    .dataframe thead th {\n",
              "        text-align: right;\n",
              "    }\n",
              "</style>\n",
              "<table border=\"1\" class=\"dataframe\">\n",
              "  <thead>\n",
              "    <tr style=\"text-align: right;\">\n",
              "      <th></th>\n",
              "      <th>Destination Port</th>\n",
              "      <th>Flow Duration</th>\n",
              "      <th>Total Fwd Packets</th>\n",
              "      <th>Total Backward Packets</th>\n",
              "      <th>Total Length of Fwd Packets</th>\n",
              "      <th>Total Length of Bwd Packets</th>\n",
              "      <th>Fwd Packet Length Max</th>\n",
              "      <th>Fwd Packet Length Min</th>\n",
              "      <th>Fwd Packet Length Mean</th>\n",
              "      <th>Fwd Packet Length Std</th>\n",
              "      <th>Bwd Packet Length Max</th>\n",
              "      <th>Bwd Packet Length Min</th>\n",
              "      <th>Bwd Packet Length Mean</th>\n",
              "      <th>Bwd Packet Length Std</th>\n",
              "      <th>Flow Bytes/s</th>\n",
              "      <th>Flow Packets/s</th>\n",
              "      <th>Flow IAT Mean</th>\n",
              "      <th>Flow IAT Std</th>\n",
              "      <th>Flow IAT Max</th>\n",
              "      <th>Flow IAT Min</th>\n",
              "      <th>Fwd IAT Total</th>\n",
              "      <th>Fwd IAT Mean</th>\n",
              "      <th>Fwd IAT Std</th>\n",
              "      <th>Fwd IAT Max</th>\n",
              "      <th>Fwd IAT Min</th>\n",
              "      <th>Bwd IAT Total</th>\n",
              "      <th>Bwd IAT Mean</th>\n",
              "      <th>Bwd IAT Std</th>\n",
              "      <th>Bwd IAT Max</th>\n",
              "      <th>Bwd IAT Min</th>\n",
              "      <th>Fwd PSH Flags</th>\n",
              "      <th>Bwd PSH Flags</th>\n",
              "      <th>Fwd URG Flags</th>\n",
              "      <th>Bwd URG Flags</th>\n",
              "      <th>Fwd Header Length</th>\n",
              "      <th>Bwd Header Length</th>\n",
              "      <th>Fwd Packets/s</th>\n",
              "      <th>Bwd Packets/s</th>\n",
              "      <th>Min Packet Length</th>\n",
              "      <th>Max Packet Length</th>\n",
              "      <th>Packet Length Mean</th>\n",
              "      <th>Packet Length Std</th>\n",
              "      <th>Packet Length Variance</th>\n",
              "      <th>FIN Flag Count</th>\n",
              "      <th>SYN Flag Count</th>\n",
              "      <th>RST Flag Count</th>\n",
              "      <th>PSH Flag Count</th>\n",
              "      <th>ACK Flag Count</th>\n",
              "      <th>URG Flag Count</th>\n",
              "      <th>CWE Flag Count</th>\n",
              "      <th>ECE Flag Count</th>\n",
              "      <th>Down/Up Ratio</th>\n",
              "      <th>Average Packet Size</th>\n",
              "      <th>Avg Fwd Segment Size</th>\n",
              "      <th>Avg Bwd Segment Size</th>\n",
              "      <th>Fwd Header Length.1</th>\n",
              "      <th>Fwd Avg Bytes/Bulk</th>\n",
              "      <th>Fwd Avg Packets/Bulk</th>\n",
              "      <th>Fwd Avg Bulk Rate</th>\n",
              "      <th>Bwd Avg Bytes/Bulk</th>\n",
              "      <th>Bwd Avg Packets/Bulk</th>\n",
              "      <th>Bwd Avg Bulk Rate</th>\n",
              "      <th>Subflow Fwd Packets</th>\n",
              "      <th>Subflow Fwd Bytes</th>\n",
              "      <th>Subflow Bwd Packets</th>\n",
              "      <th>Subflow Bwd Bytes</th>\n",
              "      <th>Init_Win_bytes_forward</th>\n",
              "      <th>Init_Win_bytes_backward</th>\n",
              "      <th>act_data_pkt_fwd</th>\n",
              "      <th>min_seg_size_forward</th>\n",
              "      <th>Active Mean</th>\n",
              "      <th>Active Std</th>\n",
              "      <th>Active Max</th>\n",
              "      <th>Active Min</th>\n",
              "      <th>Idle Mean</th>\n",
              "      <th>Idle Std</th>\n",
              "      <th>Idle Max</th>\n",
              "      <th>Idle Min</th>\n",
              "      <th>Label</th>\n",
              "    </tr>\n",
              "  </thead>\n",
              "  <tbody>\n",
              "    <tr>\n",
              "      <th>0</th>\n",
              "      <td>53</td>\n",
              "      <td>159</td>\n",
              "      <td>2</td>\n",
              "      <td>2</td>\n",
              "      <td>68</td>\n",
              "      <td>266</td>\n",
              "      <td>34</td>\n",
              "      <td>34</td>\n",
              "      <td>34.000000</td>\n",
              "      <td>0.000000</td>\n",
              "      <td>133</td>\n",
              "      <td>133</td>\n",
              "      <td>133.00</td>\n",
              "      <td>0.000000</td>\n",
              "      <td>2.100629e+06</td>\n",
              "      <td>25157.232700</td>\n",
              "      <td>5.300000e+01</td>\n",
              "      <td>9.006664e+01</td>\n",
              "      <td>157</td>\n",
              "      <td>1</td>\n",
              "      <td>1</td>\n",
              "      <td>1.000</td>\n",
              "      <td>0.000000e+00</td>\n",
              "      <td>1</td>\n",
              "      <td>1</td>\n",
              "      <td>1</td>\n",
              "      <td>1.000000e+00</td>\n",
              "      <td>0.000000e+00</td>\n",
              "      <td>1</td>\n",
              "      <td>1</td>\n",
              "      <td>0</td>\n",
              "      <td>0</td>\n",
              "      <td>0</td>\n",
              "      <td>0</td>\n",
              "      <td>40</td>\n",
              "      <td>40</td>\n",
              "      <td>12578.616350</td>\n",
              "      <td>12578.616350</td>\n",
              "      <td>34</td>\n",
              "      <td>133</td>\n",
              "      <td>73.600000</td>\n",
              "      <td>54.224533</td>\n",
              "      <td>2940.30000</td>\n",
              "      <td>0</td>\n",
              "      <td>0</td>\n",
              "      <td>0</td>\n",
              "      <td>0</td>\n",
              "      <td>0</td>\n",
              "      <td>0</td>\n",
              "      <td>0</td>\n",
              "      <td>0</td>\n",
              "      <td>1</td>\n",
              "      <td>92.000000</td>\n",
              "      <td>34.000000</td>\n",
              "      <td>133.00</td>\n",
              "      <td>40</td>\n",
              "      <td>0</td>\n",
              "      <td>0</td>\n",
              "      <td>0</td>\n",
              "      <td>0</td>\n",
              "      <td>0</td>\n",
              "      <td>0</td>\n",
              "      <td>2</td>\n",
              "      <td>68</td>\n",
              "      <td>2</td>\n",
              "      <td>266</td>\n",
              "      <td>-1</td>\n",
              "      <td>-1</td>\n",
              "      <td>1</td>\n",
              "      <td>20</td>\n",
              "      <td>0.00000</td>\n",
              "      <td>0.0000</td>\n",
              "      <td>0</td>\n",
              "      <td>0</td>\n",
              "      <td>0.000</td>\n",
              "      <td>0.000</td>\n",
              "      <td>0</td>\n",
              "      <td>0</td>\n",
              "      <td>BENIGN</td>\n",
              "    </tr>\n",
              "    <tr>\n",
              "      <th>1</th>\n",
              "      <td>53</td>\n",
              "      <td>51673</td>\n",
              "      <td>2</td>\n",
              "      <td>2</td>\n",
              "      <td>90</td>\n",
              "      <td>166</td>\n",
              "      <td>45</td>\n",
              "      <td>45</td>\n",
              "      <td>45.000000</td>\n",
              "      <td>0.000000</td>\n",
              "      <td>83</td>\n",
              "      <td>83</td>\n",
              "      <td>83.00</td>\n",
              "      <td>0.000000</td>\n",
              "      <td>4.954231e+03</td>\n",
              "      <td>77.409866</td>\n",
              "      <td>1.722433e+04</td>\n",
              "      <td>2.982736e+04</td>\n",
              "      <td>51666</td>\n",
              "      <td>3</td>\n",
              "      <td>4</td>\n",
              "      <td>4.000</td>\n",
              "      <td>0.000000e+00</td>\n",
              "      <td>4</td>\n",
              "      <td>4</td>\n",
              "      <td>3</td>\n",
              "      <td>3.000000e+00</td>\n",
              "      <td>0.000000e+00</td>\n",
              "      <td>3</td>\n",
              "      <td>3</td>\n",
              "      <td>0</td>\n",
              "      <td>0</td>\n",
              "      <td>0</td>\n",
              "      <td>0</td>\n",
              "      <td>64</td>\n",
              "      <td>64</td>\n",
              "      <td>38.704933</td>\n",
              "      <td>38.704933</td>\n",
              "      <td>45</td>\n",
              "      <td>83</td>\n",
              "      <td>60.200000</td>\n",
              "      <td>20.813457</td>\n",
              "      <td>433.20000</td>\n",
              "      <td>0</td>\n",
              "      <td>0</td>\n",
              "      <td>0</td>\n",
              "      <td>0</td>\n",
              "      <td>0</td>\n",
              "      <td>0</td>\n",
              "      <td>0</td>\n",
              "      <td>0</td>\n",
              "      <td>1</td>\n",
              "      <td>75.250000</td>\n",
              "      <td>45.000000</td>\n",
              "      <td>83.00</td>\n",
              "      <td>64</td>\n",
              "      <td>0</td>\n",
              "      <td>0</td>\n",
              "      <td>0</td>\n",
              "      <td>0</td>\n",
              "      <td>0</td>\n",
              "      <td>0</td>\n",
              "      <td>2</td>\n",
              "      <td>90</td>\n",
              "      <td>2</td>\n",
              "      <td>166</td>\n",
              "      <td>-1</td>\n",
              "      <td>-1</td>\n",
              "      <td>1</td>\n",
              "      <td>32</td>\n",
              "      <td>0.00000</td>\n",
              "      <td>0.0000</td>\n",
              "      <td>0</td>\n",
              "      <td>0</td>\n",
              "      <td>0.000</td>\n",
              "      <td>0.000</td>\n",
              "      <td>0</td>\n",
              "      <td>0</td>\n",
              "      <td>BENIGN</td>\n",
              "    </tr>\n",
              "    <tr>\n",
              "      <th>2</th>\n",
              "      <td>7496</td>\n",
              "      <td>43</td>\n",
              "      <td>1</td>\n",
              "      <td>1</td>\n",
              "      <td>0</td>\n",
              "      <td>6</td>\n",
              "      <td>0</td>\n",
              "      <td>0</td>\n",
              "      <td>0.000000</td>\n",
              "      <td>0.000000</td>\n",
              "      <td>6</td>\n",
              "      <td>6</td>\n",
              "      <td>6.00</td>\n",
              "      <td>0.000000</td>\n",
              "      <td>1.395349e+05</td>\n",
              "      <td>46511.627910</td>\n",
              "      <td>4.300000e+01</td>\n",
              "      <td>0.000000e+00</td>\n",
              "      <td>43</td>\n",
              "      <td>43</td>\n",
              "      <td>0</td>\n",
              "      <td>0.000</td>\n",
              "      <td>0.000000e+00</td>\n",
              "      <td>0</td>\n",
              "      <td>0</td>\n",
              "      <td>0</td>\n",
              "      <td>0.000000e+00</td>\n",
              "      <td>0.000000e+00</td>\n",
              "      <td>0</td>\n",
              "      <td>0</td>\n",
              "      <td>0</td>\n",
              "      <td>0</td>\n",
              "      <td>0</td>\n",
              "      <td>0</td>\n",
              "      <td>40</td>\n",
              "      <td>20</td>\n",
              "      <td>23255.813950</td>\n",
              "      <td>23255.813950</td>\n",
              "      <td>0</td>\n",
              "      <td>6</td>\n",
              "      <td>2.000000</td>\n",
              "      <td>3.464102</td>\n",
              "      <td>12.00000</td>\n",
              "      <td>0</td>\n",
              "      <td>0</td>\n",
              "      <td>0</td>\n",
              "      <td>1</td>\n",
              "      <td>0</td>\n",
              "      <td>0</td>\n",
              "      <td>0</td>\n",
              "      <td>0</td>\n",
              "      <td>1</td>\n",
              "      <td>3.000000</td>\n",
              "      <td>0.000000</td>\n",
              "      <td>6.00</td>\n",
              "      <td>40</td>\n",
              "      <td>0</td>\n",
              "      <td>0</td>\n",
              "      <td>0</td>\n",
              "      <td>0</td>\n",
              "      <td>0</td>\n",
              "      <td>0</td>\n",
              "      <td>1</td>\n",
              "      <td>0</td>\n",
              "      <td>1</td>\n",
              "      <td>6</td>\n",
              "      <td>29200</td>\n",
              "      <td>0</td>\n",
              "      <td>0</td>\n",
              "      <td>40</td>\n",
              "      <td>0.00000</td>\n",
              "      <td>0.0000</td>\n",
              "      <td>0</td>\n",
              "      <td>0</td>\n",
              "      <td>0.000</td>\n",
              "      <td>0.000</td>\n",
              "      <td>0</td>\n",
              "      <td>0</td>\n",
              "      <td>ATTACK</td>\n",
              "    </tr>\n",
              "    <tr>\n",
              "      <th>3</th>\n",
              "      <td>46564</td>\n",
              "      <td>61</td>\n",
              "      <td>1</td>\n",
              "      <td>1</td>\n",
              "      <td>6</td>\n",
              "      <td>6</td>\n",
              "      <td>6</td>\n",
              "      <td>6</td>\n",
              "      <td>6.000000</td>\n",
              "      <td>0.000000</td>\n",
              "      <td>6</td>\n",
              "      <td>6</td>\n",
              "      <td>6.00</td>\n",
              "      <td>0.000000</td>\n",
              "      <td>1.967213e+05</td>\n",
              "      <td>32786.885250</td>\n",
              "      <td>6.100000e+01</td>\n",
              "      <td>0.000000e+00</td>\n",
              "      <td>61</td>\n",
              "      <td>61</td>\n",
              "      <td>0</td>\n",
              "      <td>0.000</td>\n",
              "      <td>0.000000e+00</td>\n",
              "      <td>0</td>\n",
              "      <td>0</td>\n",
              "      <td>0</td>\n",
              "      <td>0.000000e+00</td>\n",
              "      <td>0.000000e+00</td>\n",
              "      <td>0</td>\n",
              "      <td>0</td>\n",
              "      <td>0</td>\n",
              "      <td>0</td>\n",
              "      <td>0</td>\n",
              "      <td>0</td>\n",
              "      <td>20</td>\n",
              "      <td>20</td>\n",
              "      <td>16393.442620</td>\n",
              "      <td>16393.442620</td>\n",
              "      <td>6</td>\n",
              "      <td>6</td>\n",
              "      <td>6.000000</td>\n",
              "      <td>0.000000</td>\n",
              "      <td>0.00000</td>\n",
              "      <td>0</td>\n",
              "      <td>0</td>\n",
              "      <td>0</td>\n",
              "      <td>0</td>\n",
              "      <td>1</td>\n",
              "      <td>1</td>\n",
              "      <td>0</td>\n",
              "      <td>0</td>\n",
              "      <td>1</td>\n",
              "      <td>9.000000</td>\n",
              "      <td>6.000000</td>\n",
              "      <td>6.00</td>\n",
              "      <td>20</td>\n",
              "      <td>0</td>\n",
              "      <td>0</td>\n",
              "      <td>0</td>\n",
              "      <td>0</td>\n",
              "      <td>0</td>\n",
              "      <td>0</td>\n",
              "      <td>1</td>\n",
              "      <td>6</td>\n",
              "      <td>1</td>\n",
              "      <td>6</td>\n",
              "      <td>440</td>\n",
              "      <td>307</td>\n",
              "      <td>0</td>\n",
              "      <td>20</td>\n",
              "      <td>0.00000</td>\n",
              "      <td>0.0000</td>\n",
              "      <td>0</td>\n",
              "      <td>0</td>\n",
              "      <td>0.000</td>\n",
              "      <td>0.000</td>\n",
              "      <td>0</td>\n",
              "      <td>0</td>\n",
              "      <td>BENIGN</td>\n",
              "    </tr>\n",
              "    <tr>\n",
              "      <th>4</th>\n",
              "      <td>80</td>\n",
              "      <td>69</td>\n",
              "      <td>2</td>\n",
              "      <td>0</td>\n",
              "      <td>0</td>\n",
              "      <td>0</td>\n",
              "      <td>0</td>\n",
              "      <td>0</td>\n",
              "      <td>0.000000</td>\n",
              "      <td>0.000000</td>\n",
              "      <td>0</td>\n",
              "      <td>0</td>\n",
              "      <td>0.00</td>\n",
              "      <td>0.000000</td>\n",
              "      <td>0.000000e+00</td>\n",
              "      <td>28985.507250</td>\n",
              "      <td>6.900000e+01</td>\n",
              "      <td>0.000000e+00</td>\n",
              "      <td>69</td>\n",
              "      <td>69</td>\n",
              "      <td>69</td>\n",
              "      <td>69.000</td>\n",
              "      <td>0.000000e+00</td>\n",
              "      <td>69</td>\n",
              "      <td>69</td>\n",
              "      <td>0</td>\n",
              "      <td>0.000000e+00</td>\n",
              "      <td>0.000000e+00</td>\n",
              "      <td>0</td>\n",
              "      <td>0</td>\n",
              "      <td>0</td>\n",
              "      <td>0</td>\n",
              "      <td>0</td>\n",
              "      <td>0</td>\n",
              "      <td>40</td>\n",
              "      <td>0</td>\n",
              "      <td>28985.507250</td>\n",
              "      <td>0.000000</td>\n",
              "      <td>0</td>\n",
              "      <td>0</td>\n",
              "      <td>0.000000</td>\n",
              "      <td>0.000000</td>\n",
              "      <td>0.00000</td>\n",
              "      <td>0</td>\n",
              "      <td>0</td>\n",
              "      <td>0</td>\n",
              "      <td>0</td>\n",
              "      <td>1</td>\n",
              "      <td>0</td>\n",
              "      <td>0</td>\n",
              "      <td>0</td>\n",
              "      <td>0</td>\n",
              "      <td>0.000000</td>\n",
              "      <td>0.000000</td>\n",
              "      <td>0.00</td>\n",
              "      <td>40</td>\n",
              "      <td>0</td>\n",
              "      <td>0</td>\n",
              "      <td>0</td>\n",
              "      <td>0</td>\n",
              "      <td>0</td>\n",
              "      <td>0</td>\n",
              "      <td>2</td>\n",
              "      <td>0</td>\n",
              "      <td>0</td>\n",
              "      <td>0</td>\n",
              "      <td>251</td>\n",
              "      <td>-1</td>\n",
              "      <td>0</td>\n",
              "      <td>20</td>\n",
              "      <td>0.00000</td>\n",
              "      <td>0.0000</td>\n",
              "      <td>0</td>\n",
              "      <td>0</td>\n",
              "      <td>0.000</td>\n",
              "      <td>0.000</td>\n",
              "      <td>0</td>\n",
              "      <td>0</td>\n",
              "      <td>BENIGN</td>\n",
              "    </tr>\n",
              "    <tr>\n",
              "      <th>...</th>\n",
              "      <td>...</td>\n",
              "      <td>...</td>\n",
              "      <td>...</td>\n",
              "      <td>...</td>\n",
              "      <td>...</td>\n",
              "      <td>...</td>\n",
              "      <td>...</td>\n",
              "      <td>...</td>\n",
              "      <td>...</td>\n",
              "      <td>...</td>\n",
              "      <td>...</td>\n",
              "      <td>...</td>\n",
              "      <td>...</td>\n",
              "      <td>...</td>\n",
              "      <td>...</td>\n",
              "      <td>...</td>\n",
              "      <td>...</td>\n",
              "      <td>...</td>\n",
              "      <td>...</td>\n",
              "      <td>...</td>\n",
              "      <td>...</td>\n",
              "      <td>...</td>\n",
              "      <td>...</td>\n",
              "      <td>...</td>\n",
              "      <td>...</td>\n",
              "      <td>...</td>\n",
              "      <td>...</td>\n",
              "      <td>...</td>\n",
              "      <td>...</td>\n",
              "      <td>...</td>\n",
              "      <td>...</td>\n",
              "      <td>...</td>\n",
              "      <td>...</td>\n",
              "      <td>...</td>\n",
              "      <td>...</td>\n",
              "      <td>...</td>\n",
              "      <td>...</td>\n",
              "      <td>...</td>\n",
              "      <td>...</td>\n",
              "      <td>...</td>\n",
              "      <td>...</td>\n",
              "      <td>...</td>\n",
              "      <td>...</td>\n",
              "      <td>...</td>\n",
              "      <td>...</td>\n",
              "      <td>...</td>\n",
              "      <td>...</td>\n",
              "      <td>...</td>\n",
              "      <td>...</td>\n",
              "      <td>...</td>\n",
              "      <td>...</td>\n",
              "      <td>...</td>\n",
              "      <td>...</td>\n",
              "      <td>...</td>\n",
              "      <td>...</td>\n",
              "      <td>...</td>\n",
              "      <td>...</td>\n",
              "      <td>...</td>\n",
              "      <td>...</td>\n",
              "      <td>...</td>\n",
              "      <td>...</td>\n",
              "      <td>...</td>\n",
              "      <td>...</td>\n",
              "      <td>...</td>\n",
              "      <td>...</td>\n",
              "      <td>...</td>\n",
              "      <td>...</td>\n",
              "      <td>...</td>\n",
              "      <td>...</td>\n",
              "      <td>...</td>\n",
              "      <td>...</td>\n",
              "      <td>...</td>\n",
              "      <td>...</td>\n",
              "      <td>...</td>\n",
              "      <td>...</td>\n",
              "      <td>...</td>\n",
              "      <td>...</td>\n",
              "      <td>...</td>\n",
              "      <td>...</td>\n",
              "    </tr>\n",
              "    <tr>\n",
              "      <th>25186</th>\n",
              "      <td>50100</td>\n",
              "      <td>197</td>\n",
              "      <td>1</td>\n",
              "      <td>1</td>\n",
              "      <td>6</td>\n",
              "      <td>6</td>\n",
              "      <td>6</td>\n",
              "      <td>6</td>\n",
              "      <td>6.000000</td>\n",
              "      <td>0.000000</td>\n",
              "      <td>6</td>\n",
              "      <td>6</td>\n",
              "      <td>6.00</td>\n",
              "      <td>0.000000</td>\n",
              "      <td>6.091371e+04</td>\n",
              "      <td>10152.284264</td>\n",
              "      <td>1.970000e+02</td>\n",
              "      <td>0.000000e+00</td>\n",
              "      <td>197</td>\n",
              "      <td>197</td>\n",
              "      <td>0</td>\n",
              "      <td>0.000</td>\n",
              "      <td>0.000000e+00</td>\n",
              "      <td>0</td>\n",
              "      <td>0</td>\n",
              "      <td>0</td>\n",
              "      <td>0.000000e+00</td>\n",
              "      <td>0.000000e+00</td>\n",
              "      <td>0</td>\n",
              "      <td>0</td>\n",
              "      <td>0</td>\n",
              "      <td>0</td>\n",
              "      <td>0</td>\n",
              "      <td>0</td>\n",
              "      <td>20</td>\n",
              "      <td>20</td>\n",
              "      <td>5076.142132</td>\n",
              "      <td>5076.142132</td>\n",
              "      <td>6</td>\n",
              "      <td>6</td>\n",
              "      <td>6.000000</td>\n",
              "      <td>0.000000</td>\n",
              "      <td>0.00000</td>\n",
              "      <td>0</td>\n",
              "      <td>0</td>\n",
              "      <td>0</td>\n",
              "      <td>0</td>\n",
              "      <td>1</td>\n",
              "      <td>1</td>\n",
              "      <td>0</td>\n",
              "      <td>0</td>\n",
              "      <td>1</td>\n",
              "      <td>9.000000</td>\n",
              "      <td>6.000000</td>\n",
              "      <td>6.00</td>\n",
              "      <td>20</td>\n",
              "      <td>0</td>\n",
              "      <td>0</td>\n",
              "      <td>0</td>\n",
              "      <td>0</td>\n",
              "      <td>0</td>\n",
              "      <td>0</td>\n",
              "      <td>1</td>\n",
              "      <td>6</td>\n",
              "      <td>1</td>\n",
              "      <td>6</td>\n",
              "      <td>62</td>\n",
              "      <td>256</td>\n",
              "      <td>0</td>\n",
              "      <td>20</td>\n",
              "      <td>0.00000</td>\n",
              "      <td>0.0000</td>\n",
              "      <td>0</td>\n",
              "      <td>0</td>\n",
              "      <td>0.000</td>\n",
              "      <td>0.000</td>\n",
              "      <td>0</td>\n",
              "      <td>0</td>\n",
              "      <td>BENIGN</td>\n",
              "    </tr>\n",
              "    <tr>\n",
              "      <th>25187</th>\n",
              "      <td>3390</td>\n",
              "      <td>48</td>\n",
              "      <td>1</td>\n",
              "      <td>1</td>\n",
              "      <td>0</td>\n",
              "      <td>6</td>\n",
              "      <td>0</td>\n",
              "      <td>0</td>\n",
              "      <td>0.000000</td>\n",
              "      <td>0.000000</td>\n",
              "      <td>6</td>\n",
              "      <td>6</td>\n",
              "      <td>6.00</td>\n",
              "      <td>0.000000</td>\n",
              "      <td>1.250000e+05</td>\n",
              "      <td>41666.666670</td>\n",
              "      <td>4.800000e+01</td>\n",
              "      <td>0.000000e+00</td>\n",
              "      <td>48</td>\n",
              "      <td>48</td>\n",
              "      <td>0</td>\n",
              "      <td>0.000</td>\n",
              "      <td>0.000000e+00</td>\n",
              "      <td>0</td>\n",
              "      <td>0</td>\n",
              "      <td>0</td>\n",
              "      <td>0.000000e+00</td>\n",
              "      <td>0.000000e+00</td>\n",
              "      <td>0</td>\n",
              "      <td>0</td>\n",
              "      <td>0</td>\n",
              "      <td>0</td>\n",
              "      <td>0</td>\n",
              "      <td>0</td>\n",
              "      <td>40</td>\n",
              "      <td>20</td>\n",
              "      <td>20833.333330</td>\n",
              "      <td>20833.333330</td>\n",
              "      <td>0</td>\n",
              "      <td>6</td>\n",
              "      <td>2.000000</td>\n",
              "      <td>3.464102</td>\n",
              "      <td>12.00000</td>\n",
              "      <td>0</td>\n",
              "      <td>0</td>\n",
              "      <td>0</td>\n",
              "      <td>1</td>\n",
              "      <td>0</td>\n",
              "      <td>0</td>\n",
              "      <td>0</td>\n",
              "      <td>0</td>\n",
              "      <td>1</td>\n",
              "      <td>3.000000</td>\n",
              "      <td>0.000000</td>\n",
              "      <td>6.00</td>\n",
              "      <td>40</td>\n",
              "      <td>0</td>\n",
              "      <td>0</td>\n",
              "      <td>0</td>\n",
              "      <td>0</td>\n",
              "      <td>0</td>\n",
              "      <td>0</td>\n",
              "      <td>1</td>\n",
              "      <td>0</td>\n",
              "      <td>1</td>\n",
              "      <td>6</td>\n",
              "      <td>29200</td>\n",
              "      <td>0</td>\n",
              "      <td>0</td>\n",
              "      <td>40</td>\n",
              "      <td>0.00000</td>\n",
              "      <td>0.0000</td>\n",
              "      <td>0</td>\n",
              "      <td>0</td>\n",
              "      <td>0.000</td>\n",
              "      <td>0.000</td>\n",
              "      <td>0</td>\n",
              "      <td>0</td>\n",
              "      <td>ATTACK</td>\n",
              "    </tr>\n",
              "    <tr>\n",
              "      <th>25188</th>\n",
              "      <td>123</td>\n",
              "      <td>117</td>\n",
              "      <td>2</td>\n",
              "      <td>2</td>\n",
              "      <td>96</td>\n",
              "      <td>96</td>\n",
              "      <td>48</td>\n",
              "      <td>48</td>\n",
              "      <td>48.000000</td>\n",
              "      <td>0.000000</td>\n",
              "      <td>48</td>\n",
              "      <td>48</td>\n",
              "      <td>48.00</td>\n",
              "      <td>0.000000</td>\n",
              "      <td>1.641026e+06</td>\n",
              "      <td>34188.034190</td>\n",
              "      <td>3.900000e+01</td>\n",
              "      <td>6.148984e+01</td>\n",
              "      <td>110</td>\n",
              "      <td>3</td>\n",
              "      <td>4</td>\n",
              "      <td>4.000</td>\n",
              "      <td>0.000000e+00</td>\n",
              "      <td>4</td>\n",
              "      <td>4</td>\n",
              "      <td>3</td>\n",
              "      <td>3.000000e+00</td>\n",
              "      <td>0.000000e+00</td>\n",
              "      <td>3</td>\n",
              "      <td>3</td>\n",
              "      <td>0</td>\n",
              "      <td>0</td>\n",
              "      <td>0</td>\n",
              "      <td>0</td>\n",
              "      <td>64</td>\n",
              "      <td>64</td>\n",
              "      <td>17094.017090</td>\n",
              "      <td>17094.017090</td>\n",
              "      <td>48</td>\n",
              "      <td>48</td>\n",
              "      <td>48.000000</td>\n",
              "      <td>0.000000</td>\n",
              "      <td>0.00000</td>\n",
              "      <td>0</td>\n",
              "      <td>0</td>\n",
              "      <td>0</td>\n",
              "      <td>0</td>\n",
              "      <td>0</td>\n",
              "      <td>0</td>\n",
              "      <td>0</td>\n",
              "      <td>0</td>\n",
              "      <td>1</td>\n",
              "      <td>60.000000</td>\n",
              "      <td>48.000000</td>\n",
              "      <td>48.00</td>\n",
              "      <td>64</td>\n",
              "      <td>0</td>\n",
              "      <td>0</td>\n",
              "      <td>0</td>\n",
              "      <td>0</td>\n",
              "      <td>0</td>\n",
              "      <td>0</td>\n",
              "      <td>2</td>\n",
              "      <td>96</td>\n",
              "      <td>2</td>\n",
              "      <td>96</td>\n",
              "      <td>-1</td>\n",
              "      <td>-1</td>\n",
              "      <td>1</td>\n",
              "      <td>32</td>\n",
              "      <td>0.00000</td>\n",
              "      <td>0.0000</td>\n",
              "      <td>0</td>\n",
              "      <td>0</td>\n",
              "      <td>0.000</td>\n",
              "      <td>0.000</td>\n",
              "      <td>0</td>\n",
              "      <td>0</td>\n",
              "      <td>BENIGN</td>\n",
              "    </tr>\n",
              "    <tr>\n",
              "      <th>25189</th>\n",
              "      <td>443</td>\n",
              "      <td>116260101</td>\n",
              "      <td>28</td>\n",
              "      <td>25</td>\n",
              "      <td>1809</td>\n",
              "      <td>16411</td>\n",
              "      <td>961</td>\n",
              "      <td>0</td>\n",
              "      <td>64.607143</td>\n",
              "      <td>202.023897</td>\n",
              "      <td>2005</td>\n",
              "      <td>0</td>\n",
              "      <td>656.44</td>\n",
              "      <td>775.462071</td>\n",
              "      <td>1.567176e+02</td>\n",
              "      <td>0.455874</td>\n",
              "      <td>2.235771e+06</td>\n",
              "      <td>4.130811e+06</td>\n",
              "      <td>10000000</td>\n",
              "      <td>2</td>\n",
              "      <td>116000000</td>\n",
              "      <td>4305929.667</td>\n",
              "      <td>4.949060e+06</td>\n",
              "      <td>10100000</td>\n",
              "      <td>4</td>\n",
              "      <td>111000000</td>\n",
              "      <td>4.626025e+06</td>\n",
              "      <td>5.095416e+06</td>\n",
              "      <td>10100000</td>\n",
              "      <td>49</td>\n",
              "      <td>0</td>\n",
              "      <td>0</td>\n",
              "      <td>0</td>\n",
              "      <td>0</td>\n",
              "      <td>580</td>\n",
              "      <td>512</td>\n",
              "      <td>0.240839</td>\n",
              "      <td>0.215035</td>\n",
              "      <td>0</td>\n",
              "      <td>2005</td>\n",
              "      <td>337.407407</td>\n",
              "      <td>618.523974</td>\n",
              "      <td>382571.90640</td>\n",
              "      <td>0</td>\n",
              "      <td>0</td>\n",
              "      <td>0</td>\n",
              "      <td>1</td>\n",
              "      <td>0</td>\n",
              "      <td>0</td>\n",
              "      <td>0</td>\n",
              "      <td>0</td>\n",
              "      <td>0</td>\n",
              "      <td>343.773585</td>\n",
              "      <td>64.607143</td>\n",
              "      <td>656.44</td>\n",
              "      <td>580</td>\n",
              "      <td>0</td>\n",
              "      <td>0</td>\n",
              "      <td>0</td>\n",
              "      <td>0</td>\n",
              "      <td>0</td>\n",
              "      <td>0</td>\n",
              "      <td>28</td>\n",
              "      <td>1809</td>\n",
              "      <td>25</td>\n",
              "      <td>16411</td>\n",
              "      <td>29200</td>\n",
              "      <td>294</td>\n",
              "      <td>27</td>\n",
              "      <td>20</td>\n",
              "      <td>75753.33333</td>\n",
              "      <td>143185.4198</td>\n",
              "      <td>530428</td>\n",
              "      <td>34284</td>\n",
              "      <td>9612588.083</td>\n",
              "      <td>1389284.644</td>\n",
              "      <td>10000000</td>\n",
              "      <td>5201068</td>\n",
              "      <td>BENIGN</td>\n",
              "    </tr>\n",
              "    <tr>\n",
              "      <th>25190</th>\n",
              "      <td>443</td>\n",
              "      <td>1334422</td>\n",
              "      <td>5</td>\n",
              "      <td>8</td>\n",
              "      <td>940</td>\n",
              "      <td>490</td>\n",
              "      <td>645</td>\n",
              "      <td>0</td>\n",
              "      <td>188.000000</td>\n",
              "      <td>270.799741</td>\n",
              "      <td>325</td>\n",
              "      <td>0</td>\n",
              "      <td>61.25</td>\n",
              "      <td>121.206730</td>\n",
              "      <td>1.071625e+03</td>\n",
              "      <td>9.742046</td>\n",
              "      <td>1.112018e+05</td>\n",
              "      <td>2.675647e+05</td>\n",
              "      <td>948357</td>\n",
              "      <td>1</td>\n",
              "      <td>1234790</td>\n",
              "      <td>308697.500</td>\n",
              "      <td>4.921671e+05</td>\n",
              "      <td>1043898</td>\n",
              "      <td>451</td>\n",
              "      <td>1240908</td>\n",
              "      <td>1.772726e+05</td>\n",
              "      <td>3.864811e+05</td>\n",
              "      <td>1047917</td>\n",
              "      <td>1</td>\n",
              "      <td>0</td>\n",
              "      <td>0</td>\n",
              "      <td>0</td>\n",
              "      <td>0</td>\n",
              "      <td>112</td>\n",
              "      <td>168</td>\n",
              "      <td>3.746941</td>\n",
              "      <td>5.995105</td>\n",
              "      <td>0</td>\n",
              "      <td>645</td>\n",
              "      <td>102.142857</td>\n",
              "      <td>187.459886</td>\n",
              "      <td>35141.20879</td>\n",
              "      <td>0</td>\n",
              "      <td>0</td>\n",
              "      <td>0</td>\n",
              "      <td>1</td>\n",
              "      <td>0</td>\n",
              "      <td>0</td>\n",
              "      <td>0</td>\n",
              "      <td>0</td>\n",
              "      <td>1</td>\n",
              "      <td>110.000000</td>\n",
              "      <td>188.000000</td>\n",
              "      <td>61.25</td>\n",
              "      <td>112</td>\n",
              "      <td>0</td>\n",
              "      <td>0</td>\n",
              "      <td>0</td>\n",
              "      <td>0</td>\n",
              "      <td>0</td>\n",
              "      <td>0</td>\n",
              "      <td>5</td>\n",
              "      <td>940</td>\n",
              "      <td>8</td>\n",
              "      <td>490</td>\n",
              "      <td>8192</td>\n",
              "      <td>5320</td>\n",
              "      <td>3</td>\n",
              "      <td>20</td>\n",
              "      <td>0.00000</td>\n",
              "      <td>0.0000</td>\n",
              "      <td>0</td>\n",
              "      <td>0</td>\n",
              "      <td>0.000</td>\n",
              "      <td>0.000</td>\n",
              "      <td>0</td>\n",
              "      <td>0</td>\n",
              "      <td>BENIGN</td>\n",
              "    </tr>\n",
              "  </tbody>\n",
              "</table>\n",
              "<p>25191 rows × 79 columns</p>\n",
              "</div>"
            ],
            "text/plain": [
              "        Destination Port   Flow Duration  ...   Idle Min   Label\n",
              "0                     53             159  ...          0  BENIGN\n",
              "1                     53           51673  ...          0  BENIGN\n",
              "2                   7496              43  ...          0  ATTACK\n",
              "3                  46564              61  ...          0  BENIGN\n",
              "4                     80              69  ...          0  BENIGN\n",
              "...                  ...             ...  ...        ...     ...\n",
              "25186              50100             197  ...          0  BENIGN\n",
              "25187               3390              48  ...          0  ATTACK\n",
              "25188                123             117  ...          0  BENIGN\n",
              "25189                443       116260101  ...    5201068  BENIGN\n",
              "25190                443         1334422  ...          0  BENIGN\n",
              "\n",
              "[25191 rows x 79 columns]"
            ]
          },
          "metadata": {},
          "execution_count": 8
        }
      ]
    },
    {
      "cell_type": "markdown",
      "metadata": {
        "id": "jFFkRUFUX_Xr"
      },
      "source": [
        "## Shows columns'names of the dataset"
      ]
    },
    {
      "cell_type": "code",
      "metadata": {
        "colab": {
          "base_uri": "https://localhost:8080/"
        },
        "id": "_XBG7k02asj-",
        "outputId": "f5cd04f6-5f8e-4c2b-90ae-23f424ddf93f"
      },
      "source": [
        "print(df.columns)"
      ],
      "execution_count": null,
      "outputs": [
        {
          "output_type": "stream",
          "name": "stdout",
          "text": [
            "Index([' Destination Port', ' Flow Duration', ' Total Fwd Packets',\n",
            "       ' Total Backward Packets', 'Total Length of Fwd Packets',\n",
            "       ' Total Length of Bwd Packets', ' Fwd Packet Length Max',\n",
            "       ' Fwd Packet Length Min', ' Fwd Packet Length Mean',\n",
            "       ' Fwd Packet Length Std', 'Bwd Packet Length Max',\n",
            "       ' Bwd Packet Length Min', ' Bwd Packet Length Mean',\n",
            "       ' Bwd Packet Length Std', 'Flow Bytes/s', ' Flow Packets/s',\n",
            "       ' Flow IAT Mean', ' Flow IAT Std', ' Flow IAT Max', ' Flow IAT Min',\n",
            "       'Fwd IAT Total', ' Fwd IAT Mean', ' Fwd IAT Std', ' Fwd IAT Max',\n",
            "       ' Fwd IAT Min', 'Bwd IAT Total', ' Bwd IAT Mean', ' Bwd IAT Std',\n",
            "       ' Bwd IAT Max', ' Bwd IAT Min', 'Fwd PSH Flags', ' Bwd PSH Flags',\n",
            "       ' Fwd URG Flags', ' Bwd URG Flags', ' Fwd Header Length',\n",
            "       ' Bwd Header Length', 'Fwd Packets/s', ' Bwd Packets/s',\n",
            "       ' Min Packet Length', ' Max Packet Length', ' Packet Length Mean',\n",
            "       ' Packet Length Std', ' Packet Length Variance', 'FIN Flag Count',\n",
            "       ' SYN Flag Count', ' RST Flag Count', ' PSH Flag Count',\n",
            "       ' ACK Flag Count', ' URG Flag Count', ' CWE Flag Count',\n",
            "       ' ECE Flag Count', ' Down/Up Ratio', ' Average Packet Size',\n",
            "       ' Avg Fwd Segment Size', ' Avg Bwd Segment Size',\n",
            "       ' Fwd Header Length.1', 'Fwd Avg Bytes/Bulk', ' Fwd Avg Packets/Bulk',\n",
            "       ' Fwd Avg Bulk Rate', ' Bwd Avg Bytes/Bulk', ' Bwd Avg Packets/Bulk',\n",
            "       'Bwd Avg Bulk Rate', 'Subflow Fwd Packets', ' Subflow Fwd Bytes',\n",
            "       ' Subflow Bwd Packets', ' Subflow Bwd Bytes', 'Init_Win_bytes_forward',\n",
            "       ' Init_Win_bytes_backward', ' act_data_pkt_fwd',\n",
            "       ' min_seg_size_forward', 'Active Mean', ' Active Std', ' Active Max',\n",
            "       ' Active Min', 'Idle Mean', ' Idle Std', ' Idle Max', ' Idle Min',\n",
            "       'Label'],\n",
            "      dtype='object')\n"
          ]
        }
      ]
    },
    {
      "cell_type": "markdown",
      "metadata": {
        "id": "lN3cr1lXYHif"
      },
      "source": [
        "## Show number of records in the dataset dataframe"
      ]
    },
    {
      "cell_type": "code",
      "metadata": {
        "colab": {
          "base_uri": "https://localhost:8080/"
        },
        "id": "VO5bm1ob5drU",
        "outputId": "5ceb8487-2949-4a60-d1a9-1fc31069c7e2"
      },
      "source": [
        "print(len(df))"
      ],
      "execution_count": null,
      "outputs": [
        {
          "output_type": "stream",
          "name": "stdout",
          "text": [
            "25191\n"
          ]
        }
      ]
    },
    {
      "cell_type": "markdown",
      "metadata": {
        "id": "-w_gPOTaQSBD"
      },
      "source": [
        "## Get the rows which contains null values, which are equal to 6 rows"
      ]
    },
    {
      "cell_type": "code",
      "metadata": {
        "id": "w257CH84bqP6"
      },
      "source": [
        "def get_rows_with_null(dataset):\n",
        "  is_NaN = dataset.isnull()\n",
        "  row_has_NaN = is_NaN.any(axis=1)\n",
        "  rows_with_NaN = dataset[row_has_NaN]\n",
        "  return rows_with_NaN"
      ],
      "execution_count": null,
      "outputs": []
    },
    {
      "cell_type": "code",
      "metadata": {
        "colab": {
          "base_uri": "https://localhost:8080/"
        },
        "id": "S5rZFmnXIMvm",
        "outputId": "9f767e20-e0bb-41c2-f2c4-8d24b7b5dbb2"
      },
      "source": [
        "na_rows = get_rows_with_null(df)\n",
        "print(na_rows)"
      ],
      "execution_count": null,
      "outputs": [
        {
          "output_type": "stream",
          "name": "stdout",
          "text": [
            "        Destination Port   Flow Duration  ...   Idle Min   Label\n",
            "2845               18467               0  ...          0  BENIGN\n",
            "3979               56989               0  ...          0  BENIGN\n",
            "4241               51540               0  ...          0  BENIGN\n",
            "16927                 80               0  ...          0  ATTACK\n",
            "21134                 80               0  ...          0  ATTACK\n",
            "21962                 80               0  ...          0  ATTACK\n",
            "\n",
            "[6 rows x 79 columns]\n"
          ]
        }
      ]
    },
    {
      "cell_type": "markdown",
      "metadata": {
        "id": "gZKKr7aFQgN3"
      },
      "source": [
        "## Get the column/s name which contain null values, which is \"Flow Bytes/s\" column"
      ]
    },
    {
      "cell_type": "code",
      "metadata": {
        "id": "kqtmLxPicchy"
      },
      "source": [
        "def get_col_with_null(dataset):\n",
        "  nan_values = dataset.isna()\n",
        "  nan_columns = nan_values.any()\n",
        "  columns_with_nan = dataset.columns[nan_columns].tolist()\n",
        "  return columns_with_nan"
      ],
      "execution_count": null,
      "outputs": []
    },
    {
      "cell_type": "code",
      "metadata": {
        "colab": {
          "base_uri": "https://localhost:8080/"
        },
        "id": "SoXdN8EvOPgR",
        "outputId": "e9f74c1b-d055-4db8-ba6e-0441f8f96c3c"
      },
      "source": [
        "na_col = get_col_with_null(df)\n",
        "print(na_col)"
      ],
      "execution_count": null,
      "outputs": [
        {
          "output_type": "stream",
          "name": "stdout",
          "text": [
            "['Flow Bytes/s']\n"
          ]
        }
      ]
    },
    {
      "cell_type": "markdown",
      "metadata": {
        "id": "JLoNTVhgR9Fl"
      },
      "source": [
        "**See the discribtion of the column which contains null values \"Flow Bytes/s\" column**"
      ]
    },
    {
      "cell_type": "code",
      "metadata": {
        "colab": {
          "base_uri": "https://localhost:8080/"
        },
        "id": "uygY3x039GQh",
        "outputId": "9235de31-cdcd-422f-d53b-70a813363642"
      },
      "source": [
        "df['Flow Bytes/s'].describe()"
      ],
      "execution_count": null,
      "outputs": [
        {
          "output_type": "execute_result",
          "data": {
            "text/plain": [
              "count    2.518500e+04\n",
              "mean              inf\n",
              "std               NaN\n",
              "min     -1.200000e+07\n",
              "25%      1.194258e+02\n",
              "50%      4.717414e+03\n",
              "75%      1.860465e+05\n",
              "max               inf\n",
              "Name: Flow Bytes/s, dtype: float64"
            ]
          },
          "metadata": {},
          "execution_count": 15
        }
      ]
    },
    {
      "cell_type": "markdown",
      "metadata": {
        "id": "DAm376QZUCCz"
      },
      "source": [
        "## Create a Series which contains:\n",
        "### 1- For every column which has inf values (True),\n",
        "### 2- For every column which has not inf values (False)"
      ]
    },
    {
      "cell_type": "markdown",
      "metadata": {
        "id": "LwVBn9o_TaKB"
      },
      "source": [
        "## It shows that 2 columns contain inf values"
      ]
    },
    {
      "cell_type": "markdown",
      "metadata": {
        "id": "Qb6djotQTogp"
      },
      "source": [
        "## Crete a list of columns names which contain inf values in the dataframe"
      ]
    },
    {
      "cell_type": "code",
      "metadata": {
        "id": "rjIsxc_4OSia"
      },
      "source": [
        "def get_inf_col(dataset):\n",
        "  col_inf = dataset[dataset==float(\"inf\")].any()\n",
        "  inf_list = []\n",
        "  for i in range(len(col_inf)):\n",
        "    if(col_inf[i] == True):\n",
        "      inf_list.append(dataset.columns[i])\n",
        "\n",
        "  return inf_list"
      ],
      "execution_count": null,
      "outputs": []
    },
    {
      "cell_type": "code",
      "metadata": {
        "colab": {
          "base_uri": "https://localhost:8080/"
        },
        "id": "DTf91l-OfVSI",
        "outputId": "c52c6c54-d096-4e48-a091-bec921743c94"
      },
      "source": [
        "inf_col = get_inf_col(df)\n",
        "print(inf_col)"
      ],
      "execution_count": null,
      "outputs": [
        {
          "output_type": "stream",
          "name": "stdout",
          "text": [
            "['Flow Bytes/s', ' Flow Packets/s']\n"
          ]
        }
      ]
    },
    {
      "cell_type": "markdown",
      "metadata": {
        "id": "-ZBKSBMtUslC"
      },
      "source": [
        "## Replace each inf value with the median of its column"
      ]
    },
    {
      "cell_type": "code",
      "metadata": {
        "id": "A8BxUTdmWPbp"
      },
      "source": [
        "def replace_inf_median(inf_list, dataset):\n",
        "  for i in inf_list:\n",
        "    for j in range(len(dataset[i])):\n",
        "      if(dataset[i][j] == float(\"inf\")):\n",
        "        dataset[i][j] = dataset[i].median()# replace each inf value with he median of the column\n",
        "\n",
        "  return dataset"
      ],
      "execution_count": null,
      "outputs": []
    },
    {
      "cell_type": "code",
      "metadata": {
        "colab": {
          "base_uri": "https://localhost:8080/"
        },
        "id": "mmyFj2IkgB4B",
        "outputId": "72bfc4b2-326e-41a9-d72f-d6197a524eff"
      },
      "source": [
        "df = replace_inf_median(inf_col, df)"
      ],
      "execution_count": null,
      "outputs": [
        {
          "output_type": "stream",
          "name": "stderr",
          "text": [
            "/usr/local/lib/python3.7/dist-packages/ipykernel_launcher.py:5: SettingWithCopyWarning: \n",
            "A value is trying to be set on a copy of a slice from a DataFrame\n",
            "\n",
            "See the caveats in the documentation: https://pandas.pydata.org/pandas-docs/stable/user_guide/indexing.html#returning-a-view-versus-a-copy\n",
            "  \"\"\"\n"
          ]
        }
      ]
    },
    {
      "cell_type": "markdown",
      "metadata": {
        "id": "Cv5xv4oEW210"
      },
      "source": [
        "## Replace null values with the mean of its column"
      ]
    },
    {
      "cell_type": "code",
      "metadata": {
        "id": "YhQQmPEtOPnE"
      },
      "source": [
        "def replace_na_mean(columns_with_nan, dataset):\n",
        "  #replace nan values with the mean of the column\n",
        "  dataset[columns_with_nan] = dataset[columns_with_nan].fillna((dataset[columns_with_nan].mean()))\n",
        "  return dataset"
      ],
      "execution_count": null,
      "outputs": []
    },
    {
      "cell_type": "code",
      "metadata": {
        "id": "wnnu5G8Rg2yn"
      },
      "source": [
        "df = replace_na_mean(na_col, df)"
      ],
      "execution_count": null,
      "outputs": []
    },
    {
      "cell_type": "markdown",
      "metadata": {
        "id": "TtNz_OTV6fhF"
      },
      "source": [
        "## **It is obvious that the data is imbalanced**\n",
        "## As we have 22744 record for BENIGN class, and only 2447 record for ATTACK class.\n",
        "## And we have our concern on ATTACK class, so there is imbalanced."
      ]
    },
    {
      "cell_type": "code",
      "metadata": {
        "colab": {
          "base_uri": "https://localhost:8080/"
        },
        "id": "DviRdirQ5ccm",
        "outputId": "4e477dbd-5a9e-4413-853c-015be0786d71"
      },
      "source": [
        "df.Label.value_counts()"
      ],
      "execution_count": null,
      "outputs": [
        {
          "output_type": "execute_result",
          "data": {
            "text/plain": [
              "BENIGN    22744\n",
              "ATTACK     2447\n",
              "Name: Label, dtype: int64"
            ]
          },
          "metadata": {},
          "execution_count": 22
        }
      ]
    },
    {
      "cell_type": "markdown",
      "metadata": {
        "id": "j45Ab-lEpCl6"
      },
      "source": [
        "## Get features in a separate variable X"
      ]
    },
    {
      "cell_type": "code",
      "metadata": {
        "colab": {
          "base_uri": "https://localhost:8080/"
        },
        "id": "9dGCbt_lESSJ",
        "outputId": "1e94a07d-c28b-4404-9176-d8dbf799d11d"
      },
      "source": [
        "X = df.drop(labels = [\"Label\"], axis=1) \n",
        "len(X)"
      ],
      "execution_count": null,
      "outputs": [
        {
          "output_type": "execute_result",
          "data": {
            "text/plain": [
              "25191"
            ]
          },
          "metadata": {},
          "execution_count": 23
        }
      ]
    },
    {
      "cell_type": "markdown",
      "metadata": {
        "id": "TiA0dzarpMPl"
      },
      "source": [
        "## Get labels in a separate variable y"
      ]
    },
    {
      "cell_type": "code",
      "metadata": {
        "colab": {
          "base_uri": "https://localhost:8080/"
        },
        "id": "dms3d3ldEs2y",
        "outputId": "53b06cae-0eef-4b04-9133-c615b2ca0e7f"
      },
      "source": [
        "y = df[\"Label\"].values\n",
        "len(y)"
      ],
      "execution_count": null,
      "outputs": [
        {
          "output_type": "execute_result",
          "data": {
            "text/plain": [
              "25191"
            ]
          },
          "metadata": {},
          "execution_count": 24
        }
      ]
    },
    {
      "cell_type": "markdown",
      "metadata": {
        "id": "qIMS5y2bkURo"
      },
      "source": [
        "### Plot graph to ahow the difference between benign and attack classes samples"
      ]
    },
    {
      "cell_type": "code",
      "metadata": {
        "colab": {
          "base_uri": "https://localhost:8080/",
          "height": 333
        },
        "id": "caBhmii5fW8W",
        "outputId": "c91b5577-1a65-450a-eee8-974fcc7a5b34"
      },
      "source": [
        "g = sns.countplot(df['Label'])\n",
        "g.set_xticklabels(['BENIGN','ATTACK'])\n",
        "plt.show()"
      ],
      "execution_count": null,
      "outputs": [
        {
          "output_type": "stream",
          "name": "stderr",
          "text": [
            "/usr/local/lib/python3.7/dist-packages/seaborn/_decorators.py:43: FutureWarning: Pass the following variable as a keyword arg: x. From version 0.12, the only valid positional argument will be `data`, and passing other arguments without an explicit keyword will result in an error or misinterpretation.\n",
            "  FutureWarning\n"
          ]
        },
        {
          "output_type": "display_data",
          "data": {
            "image/png": "[encoded data removed]",
            "text/plain": [
              "<Figure size 432x288 with 1 Axes>"
            ]
          },
          "metadata": {
            "needs_background": "light"
          }
        }
      ]
    },
    {
      "cell_type": "markdown",
      "metadata": {
        "id": "IHIH9Jagp4I8"
      },
      "source": [
        "## The data values have a high difference in values. So, I will scale data using standardscaler"
      ]
    },
    {
      "cell_type": "code",
      "metadata": {
        "id": "AjKdHMQb6TgV"
      },
      "source": [
        "#scale the data\n",
        "scaler = StandardScaler()\n",
        "scaler.fit(X)\n",
        "X_scaled = scaler.transform(X)"
      ],
      "execution_count": null,
      "outputs": []
    },
    {
      "cell_type": "markdown",
      "metadata": {
        "id": "yM3kHNCCsHgF"
      },
      "source": [
        "# Apply Boruta model to select only important features"
      ]
    },
    {
      "cell_type": "markdown",
      "metadata": {
        "id": "yFkX_GSOsYKu"
      },
      "source": [
        "**Define RandomForestClassifier to be used by Boruta**"
      ]
    },
    {
      "cell_type": "code",
      "metadata": {
        "id": "F9UksygFsSGJ"
      },
      "source": [
        "from sklearn.ensemble import RandomForestClassifier\n",
        "clf = RandomForestClassifier(n_estimators=200, n_jobs=-1, max_depth=5)"
      ],
      "execution_count": null,
      "outputs": []
    },
    {
      "cell_type": "code",
      "metadata": {
        "colab": {
          "base_uri": "https://localhost:8080/"
        },
        "id": "jE1Q0KqvtT0e",
        "outputId": "f92b8b91-5f61-4316-8c12-c89469ca8757"
      },
      "source": [
        "pip install boruta"
      ],
      "execution_count": null,
      "outputs": [
        {
          "output_type": "stream",
          "name": "stdout",
          "text": [
            "Collecting boruta\n",
            "  Downloading Boruta-0.3-py3-none-any.whl (56 kB)\n",
            "\u001b[?25l\r\u001b[K     |█████▉                          | 10 kB 19.2 MB/s eta 0:00:01\r\u001b[K     |███████████▋                    | 20 kB 23.0 MB/s eta 0:00:01\r\u001b[K     |█████████████████▍              | 30 kB 28.1 MB/s eta 0:00:01\r\u001b[K     |███████████████████████▏        | 40 kB 21.1 MB/s eta 0:00:01\r\u001b[K     |█████████████████████████████   | 51 kB 10.3 MB/s eta 0:00:01\r\u001b[K     |████████████████████████████████| 56 kB 3.1 MB/s \n",
            "\u001b[?25hRequirement already satisfied: numpy>=1.10.4 in /usr/local/lib/python3.7/dist-packages (from boruta) (1.19.5)\n",
            "Requirement already satisfied: scikit-learn>=0.17.1 in /usr/local/lib/python3.7/dist-packages (from boruta) (1.0.1)\n",
            "Requirement already satisfied: scipy>=0.17.0 in /usr/local/lib/python3.7/dist-packages (from boruta) (1.4.1)\n",
            "Requirement already satisfied: joblib>=0.11 in /usr/local/lib/python3.7/dist-packages (from scikit-learn>=0.17.1->boruta) (1.1.0)\n",
            "Requirement already satisfied: threadpoolctl>=2.0.0 in /usr/local/lib/python3.7/dist-packages (from scikit-learn>=0.17.1->boruta) (3.0.0)\n",
            "Installing collected packages: boruta\n",
            "Successfully installed boruta-0.3\n"
          ]
        }
      ]
    },
    {
      "cell_type": "code",
      "metadata": {
        "id": "rO9pECs-sjTQ"
      },
      "source": [
        "from boruta import BorutaPy"
      ],
      "execution_count": null,
      "outputs": []
    },
    {
      "cell_type": "markdown",
      "metadata": {
        "id": "IYLiWnS4soex"
      },
      "source": [
        "**Train Boruta model**"
      ]
    },
    {
      "cell_type": "code",
      "metadata": {
        "colab": {
          "base_uri": "https://localhost:8080/"
        },
        "id": "bjIu0gp5sj5X",
        "outputId": "6b5b9235-13c4-4422-ada1-ab8a152d8697"
      },
      "source": [
        "# makes the model runs for 150 iteration as a maximum.\n",
        "# If the model reaches all important features before that, then stop early.\n",
        "trans = BorutaPy(clf, n_estimators = 'auto', random_state=42, verbose=2, max_iter = 150)\n",
        "sel = trans.fit_transform(X_scaled, y)"
      ],
      "execution_count": null,
      "outputs": [
        {
          "output_type": "stream",
          "name": "stdout",
          "text": [
            "Iteration: \t1 / 150\n",
            "Confirmed: \t0\n",
            "Tentative: \t78\n",
            "Rejected: \t0\n",
            "Iteration: \t2 / 150\n",
            "Confirmed: \t0\n",
            "Tentative: \t78\n",
            "Rejected: \t0\n",
            "Iteration: \t3 / 150\n",
            "Confirmed: \t0\n",
            "Tentative: \t78\n",
            "Rejected: \t0\n",
            "Iteration: \t4 / 150\n",
            "Confirmed: \t0\n",
            "Tentative: \t78\n",
            "Rejected: \t0\n",
            "Iteration: \t5 / 150\n",
            "Confirmed: \t0\n",
            "Tentative: \t78\n",
            "Rejected: \t0\n",
            "Iteration: \t6 / 150\n",
            "Confirmed: \t0\n",
            "Tentative: \t78\n",
            "Rejected: \t0\n",
            "Iteration: \t7 / 150\n",
            "Confirmed: \t0\n",
            "Tentative: \t78\n",
            "Rejected: \t0\n",
            "Iteration: \t8 / 150\n",
            "Confirmed: \t64\n",
            "Tentative: \t2\n",
            "Rejected: \t12\n",
            "Iteration: \t9 / 150\n",
            "Confirmed: \t64\n",
            "Tentative: \t2\n",
            "Rejected: \t12\n",
            "Iteration: \t10 / 150\n",
            "Confirmed: \t64\n",
            "Tentative: \t2\n",
            "Rejected: \t12\n",
            "Iteration: \t11 / 150\n",
            "Confirmed: \t64\n",
            "Tentative: \t2\n",
            "Rejected: \t12\n",
            "Iteration: \t12 / 150\n",
            "Confirmed: \t65\n",
            "Tentative: \t1\n",
            "Rejected: \t12\n",
            "Iteration: \t13 / 150\n",
            "Confirmed: \t65\n",
            "Tentative: \t1\n",
            "Rejected: \t12\n",
            "Iteration: \t14 / 150\n",
            "Confirmed: \t65\n",
            "Tentative: \t1\n",
            "Rejected: \t12\n",
            "Iteration: \t15 / 150\n",
            "Confirmed: \t65\n",
            "Tentative: \t1\n",
            "Rejected: \t12\n",
            "Iteration: \t16 / 150\n",
            "Confirmed: \t66\n",
            "Tentative: \t0\n",
            "Rejected: \t12\n",
            "\n",
            "\n",
            "BorutaPy finished running.\n",
            "\n",
            "Iteration: \t17 / 150\n",
            "Confirmed: \t66\n",
            "Tentative: \t0\n",
            "Rejected: \t12\n"
          ]
        }
      ]
    },
    {
      "cell_type": "markdown",
      "metadata": {
        "id": "WG2uTNGT44KV"
      },
      "source": [
        "**As an output from boruta, we have 66 important features (those which have True value)**"
      ]
    },
    {
      "cell_type": "code",
      "metadata": {
        "colab": {
          "base_uri": "https://localhost:8080/"
        },
        "id": "-Bl8qToQ45Z-",
        "outputId": "ff264e12-ceb3-441d-cdfe-59b08a0f882f"
      },
      "source": [
        "# important features will have true value\n",
        "# rejected features will have false value\n",
        "print(trans.support_)"
      ],
      "execution_count": null,
      "outputs": [
        {
          "output_type": "stream",
          "name": "stdout",
          "text": [
            "[ True  True  True  True  True  True  True  True  True  True  True  True\n",
            "  True  True  True  True  True  True  True  True  True  True  True  True\n",
            "  True  True  True  True  True  True  True False False False  True  True\n",
            "  True  True  True  True  True  True  True  True  True False  True  True\n",
            "  True False False  True  True  True  True  True False False False False\n",
            " False False  True  True  True  True  True  True  True  True  True  True\n",
            "  True  True  True  True  True  True]\n"
          ]
        }
      ]
    },
    {
      "cell_type": "markdown",
      "metadata": {
        "id": "piFrFzIH5TAP"
      },
      "source": [
        "**Apply feature reduction in X data**"
      ]
    },
    {
      "cell_type": "code",
      "metadata": {
        "colab": {
          "base_uri": "https://localhost:8080/",
          "height": 443
        },
        "id": "YNvftUlf5bjd",
        "outputId": "79d495a6-85f8-4f5c-82ed-e7a2b49d8903"
      },
      "source": [
        "# use data with only important fratures, not all features\n",
        "X_scaled_fea = trans.transform(X_scaled)\n",
        "\n",
        "dff = pd.DataFrame(X_scaled_fea)\n",
        "dff"
      ],
      "execution_count": null,
      "outputs": [
        {
          "output_type": "execute_result",
          "data": {
            "text/html": [
              "<div>\n",
              "<style scoped>\n",
              "    .dataframe tbody tr th:only-of-type {\n",
              "        vertical-align: middle;\n",
              "    }\n",
              "\n",
              "    .dataframe tbody tr th {\n",
              "        vertical-align: top;\n",
              "    }\n",
              "\n",
              "    .dataframe thead th {\n",
              "        text-align: right;\n",
              "    }\n",
              "</style>\n",
              "<table border=\"1\" class=\"dataframe\">\n",
              "  <thead>\n",
              "    <tr style=\"text-align: right;\">\n",
              "      <th></th>\n",
              "      <th>0</th>\n",
              "      <th>1</th>\n",
              "      <th>2</th>\n",
              "      <th>3</th>\n",
              "      <th>4</th>\n",
              "      <th>5</th>\n",
              "      <th>6</th>\n",
              "      <th>7</th>\n",
              "      <th>8</th>\n",
              "      <th>9</th>\n",
              "      <th>10</th>\n",
              "      <th>11</th>\n",
              "      <th>12</th>\n",
              "      <th>13</th>\n",
              "      <th>14</th>\n",
              "      <th>15</th>\n",
              "      <th>16</th>\n",
              "      <th>17</th>\n",
              "      <th>18</th>\n",
              "      <th>19</th>\n",
              "      <th>20</th>\n",
              "      <th>21</th>\n",
              "      <th>22</th>\n",
              "      <th>23</th>\n",
              "      <th>24</th>\n",
              "      <th>25</th>\n",
              "      <th>26</th>\n",
              "      <th>27</th>\n",
              "      <th>28</th>\n",
              "      <th>29</th>\n",
              "      <th>30</th>\n",
              "      <th>31</th>\n",
              "      <th>32</th>\n",
              "      <th>33</th>\n",
              "      <th>34</th>\n",
              "      <th>35</th>\n",
              "      <th>36</th>\n",
              "      <th>37</th>\n",
              "      <th>38</th>\n",
              "      <th>39</th>\n",
              "      <th>40</th>\n",
              "      <th>41</th>\n",
              "      <th>42</th>\n",
              "      <th>43</th>\n",
              "      <th>44</th>\n",
              "      <th>45</th>\n",
              "      <th>46</th>\n",
              "      <th>47</th>\n",
              "      <th>48</th>\n",
              "      <th>49</th>\n",
              "      <th>50</th>\n",
              "      <th>51</th>\n",
              "      <th>52</th>\n",
              "      <th>53</th>\n",
              "      <th>54</th>\n",
              "      <th>55</th>\n",
              "      <th>56</th>\n",
              "      <th>57</th>\n",
              "      <th>58</th>\n",
              "      <th>59</th>\n",
              "      <th>60</th>\n",
              "      <th>61</th>\n",
              "      <th>62</th>\n",
              "      <th>63</th>\n",
              "      <th>64</th>\n",
              "      <th>65</th>\n",
              "    </tr>\n",
              "  </thead>\n",
              "  <tbody>\n",
              "    <tr>\n",
              "      <th>0</th>\n",
              "      <td>-0.456709</td>\n",
              "      <td>-0.408008</td>\n",
              "      <td>-0.010138</td>\n",
              "      <td>-0.009138</td>\n",
              "      <td>-0.066495</td>\n",
              "      <td>-0.008165</td>\n",
              "      <td>-0.251521</td>\n",
              "      <td>0.223876</td>\n",
              "      <td>-0.146581</td>\n",
              "      <td>-0.246788</td>\n",
              "      <td>-0.331920</td>\n",
              "      <td>1.237593</td>\n",
              "      <td>-0.208517</td>\n",
              "      <td>-0.363955</td>\n",
              "      <td>0.015772</td>\n",
              "      <td>-0.171987</td>\n",
              "      <td>-0.257762</td>\n",
              "      <td>-0.317464</td>\n",
              "      <td>-0.340231</td>\n",
              "      <td>-0.058020</td>\n",
              "      <td>-0.399060</td>\n",
              "      <td>-0.238805</td>\n",
              "      <td>-0.296612</td>\n",
              "      <td>-0.331369</td>\n",
              "      <td>-0.126741</td>\n",
              "      <td>-0.346948</td>\n",
              "      <td>-0.197757</td>\n",
              "      <td>-0.234638</td>\n",
              "      <td>-0.273009</td>\n",
              "      <td>-0.122562</td>\n",
              "      <td>-0.226472</td>\n",
              "      <td>-0.011691</td>\n",
              "      <td>-0.010252</td>\n",
              "      <td>-0.202654</td>\n",
              "      <td>0.145132</td>\n",
              "      <td>0.602931</td>\n",
              "      <td>-0.361647</td>\n",
              "      <td>-0.261560</td>\n",
              "      <td>-0.333513</td>\n",
              "      <td>-0.235997</td>\n",
              "      <td>-0.165298</td>\n",
              "      <td>-0.226472</td>\n",
              "      <td>-0.624194</td>\n",
              "      <td>-0.657792</td>\n",
              "      <td>-0.344031</td>\n",
              "      <td>0.468711</td>\n",
              "      <td>-0.238709</td>\n",
              "      <td>-0.146581</td>\n",
              "      <td>-0.208517</td>\n",
              "      <td>-0.011691</td>\n",
              "      <td>-0.010138</td>\n",
              "      <td>-0.066495</td>\n",
              "      <td>-0.009138</td>\n",
              "      <td>-0.008166</td>\n",
              "      <td>-0.476874</td>\n",
              "      <td>-0.253533</td>\n",
              "      <td>-0.008265</td>\n",
              "      <td>-0.915204</td>\n",
              "      <td>-0.097581</td>\n",
              "      <td>-0.113809</td>\n",
              "      <td>-0.135019</td>\n",
              "      <td>-0.071521</td>\n",
              "      <td>-0.312637</td>\n",
              "      <td>-0.096307</td>\n",
              "      <td>-0.316221</td>\n",
              "      <td>-0.301291</td>\n",
              "    </tr>\n",
              "    <tr>\n",
              "      <th>1</th>\n",
              "      <td>-0.456709</td>\n",
              "      <td>-0.406394</td>\n",
              "      <td>-0.010138</td>\n",
              "      <td>-0.009138</td>\n",
              "      <td>-0.063658</td>\n",
              "      <td>-0.008193</td>\n",
              "      <td>-0.236641</td>\n",
              "      <td>0.405659</td>\n",
              "      <td>-0.089183</td>\n",
              "      <td>-0.246788</td>\n",
              "      <td>-0.365667</td>\n",
              "      <td>0.528523</td>\n",
              "      <td>-0.314330</td>\n",
              "      <td>-0.363955</td>\n",
              "      <td>-0.059490</td>\n",
              "      <td>-0.275646</td>\n",
              "      <td>-0.253876</td>\n",
              "      <td>-0.313352</td>\n",
              "      <td>-0.337700</td>\n",
              "      <td>-0.058019</td>\n",
              "      <td>-0.399059</td>\n",
              "      <td>-0.238805</td>\n",
              "      <td>-0.296612</td>\n",
              "      <td>-0.331369</td>\n",
              "      <td>-0.126741</td>\n",
              "      <td>-0.346948</td>\n",
              "      <td>-0.197757</td>\n",
              "      <td>-0.234638</td>\n",
              "      <td>-0.273009</td>\n",
              "      <td>-0.122562</td>\n",
              "      <td>-0.226472</td>\n",
              "      <td>-0.010728</td>\n",
              "      <td>-0.009511</td>\n",
              "      <td>-0.256294</td>\n",
              "      <td>-0.174980</td>\n",
              "      <td>1.023327</td>\n",
              "      <td>-0.392778</td>\n",
              "      <td>-0.314553</td>\n",
              "      <td>-0.400695</td>\n",
              "      <td>-0.238018</td>\n",
              "      <td>-0.165298</td>\n",
              "      <td>-0.226472</td>\n",
              "      <td>-0.624194</td>\n",
              "      <td>-0.657792</td>\n",
              "      <td>-0.344031</td>\n",
              "      <td>0.468711</td>\n",
              "      <td>-0.299984</td>\n",
              "      <td>-0.089183</td>\n",
              "      <td>-0.314330</td>\n",
              "      <td>-0.010728</td>\n",
              "      <td>-0.010138</td>\n",
              "      <td>-0.063658</td>\n",
              "      <td>-0.009138</td>\n",
              "      <td>-0.008193</td>\n",
              "      <td>-0.476874</td>\n",
              "      <td>-0.253533</td>\n",
              "      <td>-0.008265</td>\n",
              "      <td>0.949275</td>\n",
              "      <td>-0.097581</td>\n",
              "      <td>-0.113809</td>\n",
              "      <td>-0.135019</td>\n",
              "      <td>-0.071521</td>\n",
              "      <td>-0.312637</td>\n",
              "      <td>-0.096307</td>\n",
              "      <td>-0.316221</td>\n",
              "      <td>-0.301291</td>\n",
              "    </tr>\n",
              "    <tr>\n",
              "      <th>2</th>\n",
              "      <td>-0.066558</td>\n",
              "      <td>-0.408012</td>\n",
              "      <td>-0.010957</td>\n",
              "      <td>-0.009755</td>\n",
              "      <td>-0.075261</td>\n",
              "      <td>-0.008237</td>\n",
              "      <td>-0.297515</td>\n",
              "      <td>-0.337998</td>\n",
              "      <td>-0.323994</td>\n",
              "      <td>-0.246788</td>\n",
              "      <td>-0.417637</td>\n",
              "      <td>-0.563447</td>\n",
              "      <td>-0.477281</td>\n",
              "      <td>-0.363955</td>\n",
              "      <td>-0.054656</td>\n",
              "      <td>-0.083727</td>\n",
              "      <td>-0.257764</td>\n",
              "      <td>-0.317476</td>\n",
              "      <td>-0.340237</td>\n",
              "      <td>-0.058005</td>\n",
              "      <td>-0.399060</td>\n",
              "      <td>-0.238805</td>\n",
              "      <td>-0.296612</td>\n",
              "      <td>-0.331369</td>\n",
              "      <td>-0.126741</td>\n",
              "      <td>-0.346948</td>\n",
              "      <td>-0.197758</td>\n",
              "      <td>-0.234638</td>\n",
              "      <td>-0.273009</td>\n",
              "      <td>-0.122562</td>\n",
              "      <td>-0.226472</td>\n",
              "      <td>-0.011691</td>\n",
              "      <td>-0.010869</td>\n",
              "      <td>-0.156982</td>\n",
              "      <td>0.417695</td>\n",
              "      <td>-0.696476</td>\n",
              "      <td>-0.440722</td>\n",
              "      <td>-0.544715</td>\n",
              "      <td>-0.435581</td>\n",
              "      <td>-0.238357</td>\n",
              "      <td>-0.165298</td>\n",
              "      <td>-0.226472</td>\n",
              "      <td>1.602066</td>\n",
              "      <td>-0.657792</td>\n",
              "      <td>-0.344031</td>\n",
              "      <td>0.468711</td>\n",
              "      <td>-0.564287</td>\n",
              "      <td>-0.323994</td>\n",
              "      <td>-0.477281</td>\n",
              "      <td>-0.011691</td>\n",
              "      <td>-0.010957</td>\n",
              "      <td>-0.075261</td>\n",
              "      <td>-0.009755</td>\n",
              "      <td>-0.008237</td>\n",
              "      <td>1.492980</td>\n",
              "      <td>-0.253425</td>\n",
              "      <td>-0.009113</td>\n",
              "      <td>2.192261</td>\n",
              "      <td>-0.097581</td>\n",
              "      <td>-0.113809</td>\n",
              "      <td>-0.135019</td>\n",
              "      <td>-0.071521</td>\n",
              "      <td>-0.312637</td>\n",
              "      <td>-0.096307</td>\n",
              "      <td>-0.316221</td>\n",
              "      <td>-0.301291</td>\n",
              "    </tr>\n",
              "    <tr>\n",
              "      <th>3</th>\n",
              "      <td>1.981326</td>\n",
              "      <td>-0.408011</td>\n",
              "      <td>-0.010957</td>\n",
              "      <td>-0.009755</td>\n",
              "      <td>-0.074487</td>\n",
              "      <td>-0.008237</td>\n",
              "      <td>-0.289398</td>\n",
              "      <td>-0.238844</td>\n",
              "      <td>-0.292686</td>\n",
              "      <td>-0.246788</td>\n",
              "      <td>-0.417637</td>\n",
              "      <td>-0.563447</td>\n",
              "      <td>-0.477281</td>\n",
              "      <td>-0.363955</td>\n",
              "      <td>-0.052603</td>\n",
              "      <td>-0.140453</td>\n",
              "      <td>-0.257760</td>\n",
              "      <td>-0.317476</td>\n",
              "      <td>-0.340236</td>\n",
              "      <td>-0.057998</td>\n",
              "      <td>-0.399060</td>\n",
              "      <td>-0.238805</td>\n",
              "      <td>-0.296612</td>\n",
              "      <td>-0.331369</td>\n",
              "      <td>-0.126741</td>\n",
              "      <td>-0.346948</td>\n",
              "      <td>-0.197758</td>\n",
              "      <td>-0.234638</td>\n",
              "      <td>-0.273009</td>\n",
              "      <td>-0.122562</td>\n",
              "      <td>-0.226472</td>\n",
              "      <td>-0.012493</td>\n",
              "      <td>-0.010869</td>\n",
              "      <td>-0.186336</td>\n",
              "      <td>0.242515</td>\n",
              "      <td>-0.467169</td>\n",
              "      <td>-0.440722</td>\n",
              "      <td>-0.528896</td>\n",
              "      <td>-0.442546</td>\n",
              "      <td>-0.238367</td>\n",
              "      <td>-0.165298</td>\n",
              "      <td>-0.226472</td>\n",
              "      <td>-0.624194</td>\n",
              "      <td>1.520237</td>\n",
              "      <td>2.906714</td>\n",
              "      <td>0.468711</td>\n",
              "      <td>-0.542338</td>\n",
              "      <td>-0.292686</td>\n",
              "      <td>-0.477281</td>\n",
              "      <td>-0.012493</td>\n",
              "      <td>-0.010957</td>\n",
              "      <td>-0.074487</td>\n",
              "      <td>-0.009755</td>\n",
              "      <td>-0.008237</td>\n",
              "      <td>-0.447125</td>\n",
              "      <td>-0.220153</td>\n",
              "      <td>-0.009113</td>\n",
              "      <td>-0.915204</td>\n",
              "      <td>-0.097581</td>\n",
              "      <td>-0.113809</td>\n",
              "      <td>-0.135019</td>\n",
              "      <td>-0.071521</td>\n",
              "      <td>-0.312637</td>\n",
              "      <td>-0.096307</td>\n",
              "      <td>-0.316221</td>\n",
              "      <td>-0.301291</td>\n",
              "    </tr>\n",
              "    <tr>\n",
              "      <th>4</th>\n",
              "      <td>-0.455294</td>\n",
              "      <td>-0.408011</td>\n",
              "      <td>-0.010138</td>\n",
              "      <td>-0.010373</td>\n",
              "      <td>-0.075261</td>\n",
              "      <td>-0.008239</td>\n",
              "      <td>-0.297515</td>\n",
              "      <td>-0.337998</td>\n",
              "      <td>-0.323994</td>\n",
              "      <td>-0.246788</td>\n",
              "      <td>-0.421687</td>\n",
              "      <td>-0.648535</td>\n",
              "      <td>-0.489978</td>\n",
              "      <td>-0.363955</td>\n",
              "      <td>-0.059667</td>\n",
              "      <td>-0.156165</td>\n",
              "      <td>-0.257758</td>\n",
              "      <td>-0.317476</td>\n",
              "      <td>-0.340235</td>\n",
              "      <td>-0.057995</td>\n",
              "      <td>-0.399057</td>\n",
              "      <td>-0.238798</td>\n",
              "      <td>-0.296612</td>\n",
              "      <td>-0.331366</td>\n",
              "      <td>-0.126734</td>\n",
              "      <td>-0.346948</td>\n",
              "      <td>-0.197758</td>\n",
              "      <td>-0.234638</td>\n",
              "      <td>-0.273009</td>\n",
              "      <td>-0.122562</td>\n",
              "      <td>-0.226472</td>\n",
              "      <td>-0.011691</td>\n",
              "      <td>-0.011486</td>\n",
              "      <td>-0.132473</td>\n",
              "      <td>-0.175968</td>\n",
              "      <td>-0.696476</td>\n",
              "      <td>-0.444457</td>\n",
              "      <td>-0.552624</td>\n",
              "      <td>-0.442546</td>\n",
              "      <td>-0.238367</td>\n",
              "      <td>-0.165298</td>\n",
              "      <td>-0.226472</td>\n",
              "      <td>-0.624194</td>\n",
              "      <td>1.520237</td>\n",
              "      <td>-0.344031</td>\n",
              "      <td>-1.032535</td>\n",
              "      <td>-0.575262</td>\n",
              "      <td>-0.323994</td>\n",
              "      <td>-0.489978</td>\n",
              "      <td>-0.011691</td>\n",
              "      <td>-0.010138</td>\n",
              "      <td>-0.075261</td>\n",
              "      <td>-0.010373</td>\n",
              "      <td>-0.008239</td>\n",
              "      <td>-0.459875</td>\n",
              "      <td>-0.253533</td>\n",
              "      <td>-0.009113</td>\n",
              "      <td>-0.915204</td>\n",
              "      <td>-0.097581</td>\n",
              "      <td>-0.113809</td>\n",
              "      <td>-0.135019</td>\n",
              "      <td>-0.071521</td>\n",
              "      <td>-0.312637</td>\n",
              "      <td>-0.096307</td>\n",
              "      <td>-0.316221</td>\n",
              "      <td>-0.301291</td>\n",
              "    </tr>\n",
              "    <tr>\n",
              "      <th>...</th>\n",
              "      <td>...</td>\n",
              "      <td>...</td>\n",
              "      <td>...</td>\n",
              "      <td>...</td>\n",
              "      <td>...</td>\n",
              "      <td>...</td>\n",
              "      <td>...</td>\n",
              "      <td>...</td>\n",
              "      <td>...</td>\n",
              "      <td>...</td>\n",
              "      <td>...</td>\n",
              "      <td>...</td>\n",
              "      <td>...</td>\n",
              "      <td>...</td>\n",
              "      <td>...</td>\n",
              "      <td>...</td>\n",
              "      <td>...</td>\n",
              "      <td>...</td>\n",
              "      <td>...</td>\n",
              "      <td>...</td>\n",
              "      <td>...</td>\n",
              "      <td>...</td>\n",
              "      <td>...</td>\n",
              "      <td>...</td>\n",
              "      <td>...</td>\n",
              "      <td>...</td>\n",
              "      <td>...</td>\n",
              "      <td>...</td>\n",
              "      <td>...</td>\n",
              "      <td>...</td>\n",
              "      <td>...</td>\n",
              "      <td>...</td>\n",
              "      <td>...</td>\n",
              "      <td>...</td>\n",
              "      <td>...</td>\n",
              "      <td>...</td>\n",
              "      <td>...</td>\n",
              "      <td>...</td>\n",
              "      <td>...</td>\n",
              "      <td>...</td>\n",
              "      <td>...</td>\n",
              "      <td>...</td>\n",
              "      <td>...</td>\n",
              "      <td>...</td>\n",
              "      <td>...</td>\n",
              "      <td>...</td>\n",
              "      <td>...</td>\n",
              "      <td>...</td>\n",
              "      <td>...</td>\n",
              "      <td>...</td>\n",
              "      <td>...</td>\n",
              "      <td>...</td>\n",
              "      <td>...</td>\n",
              "      <td>...</td>\n",
              "      <td>...</td>\n",
              "      <td>...</td>\n",
              "      <td>...</td>\n",
              "      <td>...</td>\n",
              "      <td>...</td>\n",
              "      <td>...</td>\n",
              "      <td>...</td>\n",
              "      <td>...</td>\n",
              "      <td>...</td>\n",
              "      <td>...</td>\n",
              "      <td>...</td>\n",
              "      <td>...</td>\n",
              "    </tr>\n",
              "    <tr>\n",
              "      <th>25186</th>\n",
              "      <td>2.166677</td>\n",
              "      <td>-0.408007</td>\n",
              "      <td>-0.010957</td>\n",
              "      <td>-0.009755</td>\n",
              "      <td>-0.074487</td>\n",
              "      <td>-0.008237</td>\n",
              "      <td>-0.289398</td>\n",
              "      <td>-0.238844</td>\n",
              "      <td>-0.292686</td>\n",
              "      <td>-0.246788</td>\n",
              "      <td>-0.417637</td>\n",
              "      <td>-0.563447</td>\n",
              "      <td>-0.477281</td>\n",
              "      <td>-0.363955</td>\n",
              "      <td>-0.057480</td>\n",
              "      <td>-0.234005</td>\n",
              "      <td>-0.257729</td>\n",
              "      <td>-0.317476</td>\n",
              "      <td>-0.340229</td>\n",
              "      <td>-0.057950</td>\n",
              "      <td>-0.399060</td>\n",
              "      <td>-0.238805</td>\n",
              "      <td>-0.296612</td>\n",
              "      <td>-0.331369</td>\n",
              "      <td>-0.126741</td>\n",
              "      <td>-0.346948</td>\n",
              "      <td>-0.197758</td>\n",
              "      <td>-0.234638</td>\n",
              "      <td>-0.273009</td>\n",
              "      <td>-0.122562</td>\n",
              "      <td>-0.226472</td>\n",
              "      <td>-0.012493</td>\n",
              "      <td>-0.010869</td>\n",
              "      <td>-0.234746</td>\n",
              "      <td>-0.046387</td>\n",
              "      <td>-0.467169</td>\n",
              "      <td>-0.440722</td>\n",
              "      <td>-0.528896</td>\n",
              "      <td>-0.442546</td>\n",
              "      <td>-0.238367</td>\n",
              "      <td>-0.165298</td>\n",
              "      <td>-0.226472</td>\n",
              "      <td>-0.624194</td>\n",
              "      <td>1.520237</td>\n",
              "      <td>2.906714</td>\n",
              "      <td>0.468711</td>\n",
              "      <td>-0.542338</td>\n",
              "      <td>-0.292686</td>\n",
              "      <td>-0.477281</td>\n",
              "      <td>-0.012493</td>\n",
              "      <td>-0.010957</td>\n",
              "      <td>-0.074487</td>\n",
              "      <td>-0.009755</td>\n",
              "      <td>-0.008237</td>\n",
              "      <td>-0.472624</td>\n",
              "      <td>-0.225681</td>\n",
              "      <td>-0.009113</td>\n",
              "      <td>-0.915204</td>\n",
              "      <td>-0.097581</td>\n",
              "      <td>-0.113809</td>\n",
              "      <td>-0.135019</td>\n",
              "      <td>-0.071521</td>\n",
              "      <td>-0.312637</td>\n",
              "      <td>-0.096307</td>\n",
              "      <td>-0.316221</td>\n",
              "      <td>-0.301291</td>\n",
              "    </tr>\n",
              "    <tr>\n",
              "      <th>25187</th>\n",
              "      <td>-0.281789</td>\n",
              "      <td>-0.408012</td>\n",
              "      <td>-0.010957</td>\n",
              "      <td>-0.009755</td>\n",
              "      <td>-0.075261</td>\n",
              "      <td>-0.008237</td>\n",
              "      <td>-0.297515</td>\n",
              "      <td>-0.337998</td>\n",
              "      <td>-0.323994</td>\n",
              "      <td>-0.246788</td>\n",
              "      <td>-0.417637</td>\n",
              "      <td>-0.563447</td>\n",
              "      <td>-0.477281</td>\n",
              "      <td>-0.363955</td>\n",
              "      <td>-0.055178</td>\n",
              "      <td>-0.103752</td>\n",
              "      <td>-0.257763</td>\n",
              "      <td>-0.317476</td>\n",
              "      <td>-0.340236</td>\n",
              "      <td>-0.058003</td>\n",
              "      <td>-0.399060</td>\n",
              "      <td>-0.238805</td>\n",
              "      <td>-0.296612</td>\n",
              "      <td>-0.331369</td>\n",
              "      <td>-0.126741</td>\n",
              "      <td>-0.346948</td>\n",
              "      <td>-0.197758</td>\n",
              "      <td>-0.234638</td>\n",
              "      <td>-0.273009</td>\n",
              "      <td>-0.122562</td>\n",
              "      <td>-0.226472</td>\n",
              "      <td>-0.011691</td>\n",
              "      <td>-0.010869</td>\n",
              "      <td>-0.167344</td>\n",
              "      <td>0.355855</td>\n",
              "      <td>-0.696476</td>\n",
              "      <td>-0.440722</td>\n",
              "      <td>-0.544715</td>\n",
              "      <td>-0.435581</td>\n",
              "      <td>-0.238357</td>\n",
              "      <td>-0.165298</td>\n",
              "      <td>-0.226472</td>\n",
              "      <td>1.602066</td>\n",
              "      <td>-0.657792</td>\n",
              "      <td>-0.344031</td>\n",
              "      <td>0.468711</td>\n",
              "      <td>-0.564287</td>\n",
              "      <td>-0.323994</td>\n",
              "      <td>-0.477281</td>\n",
              "      <td>-0.011691</td>\n",
              "      <td>-0.010957</td>\n",
              "      <td>-0.075261</td>\n",
              "      <td>-0.009755</td>\n",
              "      <td>-0.008237</td>\n",
              "      <td>1.492980</td>\n",
              "      <td>-0.253425</td>\n",
              "      <td>-0.009113</td>\n",
              "      <td>2.192261</td>\n",
              "      <td>-0.097581</td>\n",
              "      <td>-0.113809</td>\n",
              "      <td>-0.135019</td>\n",
              "      <td>-0.071521</td>\n",
              "      <td>-0.312637</td>\n",
              "      <td>-0.096307</td>\n",
              "      <td>-0.316221</td>\n",
              "      <td>-0.301291</td>\n",
              "    </tr>\n",
              "    <tr>\n",
              "      <th>25188</th>\n",
              "      <td>-0.453040</td>\n",
              "      <td>-0.408009</td>\n",
              "      <td>-0.010138</td>\n",
              "      <td>-0.009138</td>\n",
              "      <td>-0.062885</td>\n",
              "      <td>-0.008212</td>\n",
              "      <td>-0.232583</td>\n",
              "      <td>0.455236</td>\n",
              "      <td>-0.073529</td>\n",
              "      <td>-0.246788</td>\n",
              "      <td>-0.389290</td>\n",
              "      <td>0.032173</td>\n",
              "      <td>-0.388398</td>\n",
              "      <td>-0.363955</td>\n",
              "      <td>-0.000733</td>\n",
              "      <td>-0.134662</td>\n",
              "      <td>-0.257765</td>\n",
              "      <td>-0.317468</td>\n",
              "      <td>-0.340233</td>\n",
              "      <td>-0.058019</td>\n",
              "      <td>-0.399059</td>\n",
              "      <td>-0.238805</td>\n",
              "      <td>-0.296612</td>\n",
              "      <td>-0.331369</td>\n",
              "      <td>-0.126741</td>\n",
              "      <td>-0.346948</td>\n",
              "      <td>-0.197757</td>\n",
              "      <td>-0.234638</td>\n",
              "      <td>-0.273009</td>\n",
              "      <td>-0.122562</td>\n",
              "      <td>-0.226472</td>\n",
              "      <td>-0.010728</td>\n",
              "      <td>-0.009511</td>\n",
              "      <td>-0.183339</td>\n",
              "      <td>0.260399</td>\n",
              "      <td>1.137980</td>\n",
              "      <td>-0.414571</td>\n",
              "      <td>-0.362800</td>\n",
              "      <td>-0.442546</td>\n",
              "      <td>-0.238367</td>\n",
              "      <td>-0.165298</td>\n",
              "      <td>-0.226472</td>\n",
              "      <td>-0.624194</td>\n",
              "      <td>-0.657792</td>\n",
              "      <td>-0.344031</td>\n",
              "      <td>0.468711</td>\n",
              "      <td>-0.355771</td>\n",
              "      <td>-0.073529</td>\n",
              "      <td>-0.388398</td>\n",
              "      <td>-0.010728</td>\n",
              "      <td>-0.010138</td>\n",
              "      <td>-0.062885</td>\n",
              "      <td>-0.009138</td>\n",
              "      <td>-0.008212</td>\n",
              "      <td>-0.476874</td>\n",
              "      <td>-0.253533</td>\n",
              "      <td>-0.008265</td>\n",
              "      <td>0.949275</td>\n",
              "      <td>-0.097581</td>\n",
              "      <td>-0.113809</td>\n",
              "      <td>-0.135019</td>\n",
              "      <td>-0.071521</td>\n",
              "      <td>-0.312637</td>\n",
              "      <td>-0.096307</td>\n",
              "      <td>-0.316221</td>\n",
              "      <td>-0.301291</td>\n",
              "    </tr>\n",
              "    <tr>\n",
              "      <th>25189</th>\n",
              "      <td>-0.436266</td>\n",
              "      <td>3.234747</td>\n",
              "      <td>0.011166</td>\n",
              "      <td>0.005057</td>\n",
              "      <td>0.157949</td>\n",
              "      <td>-0.003721</td>\n",
              "      <td>1.002475</td>\n",
              "      <td>-0.337998</td>\n",
              "      <td>0.013128</td>\n",
              "      <td>0.441879</td>\n",
              "      <td>0.931558</td>\n",
              "      <td>-0.648535</td>\n",
              "      <td>0.899211</td>\n",
              "      <td>0.878473</td>\n",
              "      <td>-0.059662</td>\n",
              "      <td>-0.275964</td>\n",
              "      <td>0.248214</td>\n",
              "      <td>0.253750</td>\n",
              "      <td>0.151127</td>\n",
              "      <td>-0.058019</td>\n",
              "      <td>3.246944</td>\n",
              "      <td>0.202906</td>\n",
              "      <td>0.356899</td>\n",
              "      <td>0.163549</td>\n",
              "      <td>-0.126741</td>\n",
              "      <td>3.495094</td>\n",
              "      <td>0.298356</td>\n",
              "      <td>0.726052</td>\n",
              "      <td>0.372066</td>\n",
              "      <td>-0.122557</td>\n",
              "      <td>-0.226472</td>\n",
              "      <td>0.009968</td>\n",
              "      <td>0.004312</td>\n",
              "      <td>-0.256458</td>\n",
              "      <td>-0.175963</td>\n",
              "      <td>-0.696476</td>\n",
              "      <td>0.803932</td>\n",
              "      <td>0.781711</td>\n",
              "      <td>0.801169</td>\n",
              "      <td>0.069962</td>\n",
              "      <td>-0.165298</td>\n",
              "      <td>-0.226472</td>\n",
              "      <td>1.602066</td>\n",
              "      <td>-0.657792</td>\n",
              "      <td>-0.344031</td>\n",
              "      <td>-1.032535</td>\n",
              "      <td>0.682324</td>\n",
              "      <td>0.013128</td>\n",
              "      <td>0.899211</td>\n",
              "      <td>0.009968</td>\n",
              "      <td>0.011166</td>\n",
              "      <td>0.157949</td>\n",
              "      <td>0.005057</td>\n",
              "      <td>-0.003721</td>\n",
              "      <td>1.492980</td>\n",
              "      <td>-0.221562</td>\n",
              "      <td>0.013775</td>\n",
              "      <td>-0.915204</td>\n",
              "      <td>-0.007167</td>\n",
              "      <td>0.244052</td>\n",
              "      <td>0.303993</td>\n",
              "      <td>-0.028219</td>\n",
              "      <td>0.180407</td>\n",
              "      <td>0.272439</td>\n",
              "      <td>0.180443</td>\n",
              "      <td>-0.030894</td>\n",
              "    </tr>\n",
              "    <tr>\n",
              "      <th>25190</th>\n",
              "      <td>-0.436266</td>\n",
              "      <td>-0.366202</td>\n",
              "      <td>-0.007680</td>\n",
              "      <td>-0.005435</td>\n",
              "      <td>0.045921</td>\n",
              "      <td>-0.008104</td>\n",
              "      <td>0.575007</td>\n",
              "      <td>-0.337998</td>\n",
              "      <td>0.656995</td>\n",
              "      <td>0.676325</td>\n",
              "      <td>-0.202333</td>\n",
              "      <td>-0.648535</td>\n",
              "      <td>-0.360358</td>\n",
              "      <td>-0.169760</td>\n",
              "      <td>-0.059629</td>\n",
              "      <td>-0.275926</td>\n",
              "      <td>-0.232607</td>\n",
              "      <td>-0.280476</td>\n",
              "      <td>-0.293640</td>\n",
              "      <td>-0.058020</td>\n",
              "      <td>-0.360249</td>\n",
              "      <td>-0.207138</td>\n",
              "      <td>-0.231622</td>\n",
              "      <td>-0.280217</td>\n",
              "      <td>-0.126692</td>\n",
              "      <td>-0.303997</td>\n",
              "      <td>-0.178746</td>\n",
              "      <td>-0.161771</td>\n",
              "      <td>-0.206080</td>\n",
              "      <td>-0.122562</td>\n",
              "      <td>-0.226472</td>\n",
              "      <td>-0.008803</td>\n",
              "      <td>-0.006302</td>\n",
              "      <td>-0.256443</td>\n",
              "      <td>-0.175815</td>\n",
              "      <td>-0.696476</td>\n",
              "      <td>-0.042856</td>\n",
              "      <td>-0.148683</td>\n",
              "      <td>-0.065606</td>\n",
              "      <td>-0.210045</td>\n",
              "      <td>-0.165298</td>\n",
              "      <td>-0.226472</td>\n",
              "      <td>1.602066</td>\n",
              "      <td>-0.657792</td>\n",
              "      <td>-0.344031</td>\n",
              "      <td>0.468711</td>\n",
              "      <td>-0.172862</td>\n",
              "      <td>0.656995</td>\n",
              "      <td>-0.360358</td>\n",
              "      <td>-0.008803</td>\n",
              "      <td>-0.007680</td>\n",
              "      <td>0.045921</td>\n",
              "      <td>-0.005435</td>\n",
              "      <td>-0.008104</td>\n",
              "      <td>0.075813</td>\n",
              "      <td>0.323137</td>\n",
              "      <td>-0.006570</td>\n",
              "      <td>-0.915204</td>\n",
              "      <td>-0.097581</td>\n",
              "      <td>-0.113809</td>\n",
              "      <td>-0.135019</td>\n",
              "      <td>-0.071521</td>\n",
              "      <td>-0.312637</td>\n",
              "      <td>-0.096307</td>\n",
              "      <td>-0.316221</td>\n",
              "      <td>-0.301291</td>\n",
              "    </tr>\n",
              "  </tbody>\n",
              "</table>\n",
              "<p>25191 rows × 66 columns</p>\n",
              "</div>"
            ],
            "text/plain": [
              "             0         1         2   ...        63        64        65\n",
              "0     -0.456709 -0.408008 -0.010138  ... -0.096307 -0.316221 -0.301291\n",
              "1     -0.456709 -0.406394 -0.010138  ... -0.096307 -0.316221 -0.301291\n",
              "2     -0.066558 -0.408012 -0.010957  ... -0.096307 -0.316221 -0.301291\n",
              "3      1.981326 -0.408011 -0.010957  ... -0.096307 -0.316221 -0.301291\n",
              "4     -0.455294 -0.408011 -0.010138  ... -0.096307 -0.316221 -0.301291\n",
              "...         ...       ...       ...  ...       ...       ...       ...\n",
              "25186  2.166677 -0.408007 -0.010957  ... -0.096307 -0.316221 -0.301291\n",
              "25187 -0.281789 -0.408012 -0.010957  ... -0.096307 -0.316221 -0.301291\n",
              "25188 -0.453040 -0.408009 -0.010138  ... -0.096307 -0.316221 -0.301291\n",
              "25189 -0.436266  3.234747  0.011166  ...  0.272439  0.180443 -0.030894\n",
              "25190 -0.436266 -0.366202 -0.007680  ... -0.096307 -0.316221 -0.301291\n",
              "\n",
              "[25191 rows x 66 columns]"
            ]
          },
          "metadata": {},
          "execution_count": 32
        }
      ]
    },
    {
      "cell_type": "markdown",
      "metadata": {
        "id": "dC23G59NgWHB"
      },
      "source": [
        "## Split the data into train and test by 80% : 20%"
      ]
    },
    {
      "cell_type": "code",
      "metadata": {
        "id": "9cLqnxfr5IHD"
      },
      "source": [
        "#split the data into train and test.\n",
        "X_train, X_test, y_train, y_test = train_test_split(\n",
        "    X_scaled_fea, y, test_size=0.20, stratify=y)"
      ],
      "execution_count": null,
      "outputs": []
    },
    {
      "cell_type": "markdown",
      "metadata": {
        "id": "w6sk2gmEgx5M"
      },
      "source": [
        "## Reach balance case with classes samples use smotetomek\n",
        "### I used that method andget results,but later on I decided to work with the data without sampling. But, it will run successfully if you remove comments on code lines."
      ]
    },
    {
      "cell_type": "code",
      "metadata": {
        "id": "vrCbckynSJ5j"
      },
      "source": [
        "# sm = SMOTETomek()\n",
        "# X_train, y_train = sm.fit_resample(X_train, y_train)"
      ],
      "execution_count": null,
      "outputs": []
    },
    {
      "cell_type": "markdown",
      "metadata": {
        "id": "ZvfO7VaPhOme"
      },
      "source": [
        "## Initialize decision tree object and see its performance on 10 folds crossvalidation"
      ]
    },
    {
      "cell_type": "code",
      "metadata": {
        "id": "A_DeY6BhA7FD"
      },
      "source": [
        "clf_1 = DecisionTreeClassifier(random_state=0)\n",
        "scores = cross_val_score(clf_1, X_train, y_train, cv=10)"
      ],
      "execution_count": null,
      "outputs": []
    },
    {
      "cell_type": "markdown",
      "metadata": {
        "id": "dxiicyvEhoV2"
      },
      "source": [
        "**The model reach average performance with score = 99.72%**"
      ]
    },
    {
      "cell_type": "code",
      "metadata": {
        "colab": {
          "base_uri": "https://localhost:8080/"
        },
        "id": "7xcDtFCQBbrr",
        "outputId": "55b4e038-b13e-446a-999f-afd9c3f16065"
      },
      "source": [
        "# get the average scorefrom the list of scores from crossvalidations\n",
        "avg = sum(scores)/len(scores)\n",
        "print(avg)"
      ],
      "execution_count": null,
      "outputs": [
        {
          "output_type": "stream",
          "name": "stdout",
          "text": [
            "0.997121858875891\n"
          ]
        }
      ]
    },
    {
      "cell_type": "code",
      "metadata": {
        "colab": {
          "base_uri": "https://localhost:8080/"
        },
        "id": "-chEi69A6af4",
        "outputId": "2b87fd28-f51a-495f-d5e9-be1c1ef75931"
      },
      "source": [
        "scores"
      ],
      "execution_count": null,
      "outputs": [
        {
          "output_type": "execute_result",
          "data": {
            "text/plain": [
              "array([0.99603175, 0.9985119 , 0.99652605, 0.99751861, 0.99652605,\n",
              "       0.99652605, 0.99702233, 0.99801489, 0.99454094, 1.        ])"
            ]
          },
          "metadata": {},
          "execution_count": 37
        }
      ]
    },
    {
      "cell_type": "markdown",
      "metadata": {
        "id": "44vcQu8yhzaJ"
      },
      "source": [
        "## Fit the model with training data after being balanced"
      ]
    },
    {
      "cell_type": "code",
      "metadata": {
        "colab": {
          "base_uri": "https://localhost:8080/"
        },
        "id": "IZ_qbeKnBd7L",
        "outputId": "79c73d94-81d6-4708-c12c-900946615680"
      },
      "source": [
        "clf_1.fit(X_train, y_train)"
      ],
      "execution_count": null,
      "outputs": [
        {
          "output_type": "execute_result",
          "data": {
            "text/plain": [
              "DecisionTreeClassifier(random_state=0)"
            ]
          },
          "metadata": {},
          "execution_count": 38
        }
      ]
    },
    {
      "cell_type": "markdown",
      "metadata": {
        "id": "cWoLoIZNh9c6"
      },
      "source": [
        "## Get model prediction on testing data"
      ]
    },
    {
      "cell_type": "code",
      "metadata": {
        "id": "IRMyXN_6BqTu"
      },
      "source": [
        "pred = clf_1.predict(X_test)"
      ],
      "execution_count": null,
      "outputs": []
    },
    {
      "cell_type": "markdown",
      "metadata": {
        "id": "-ETq0g4gmaZX"
      },
      "source": [
        "###  Get Decision Tree model prediction probabilities to be used in ROC curve later"
      ]
    },
    {
      "cell_type": "code",
      "metadata": {
        "id": "gC46sI-D8J8a"
      },
      "source": [
        "pred_proba = clf_1.predict_proba(X_test)[::,1]"
      ],
      "execution_count": null,
      "outputs": []
    },
    {
      "cell_type": "markdown",
      "metadata": {
        "id": "t7WBxKRqiE_t"
      },
      "source": [
        "**Modelaccuracy ==> 99.72%**"
      ]
    },
    {
      "cell_type": "code",
      "metadata": {
        "colab": {
          "base_uri": "https://localhost:8080/"
        },
        "id": "twqjw5X2Bv5e",
        "outputId": "5de8d980-2095-4467-9cd6-6ee699f9cda9"
      },
      "source": [
        "accuracy_score(y_test, pred)"
      ],
      "execution_count": null,
      "outputs": [
        {
          "output_type": "execute_result",
          "data": {
            "text/plain": [
              "0.9970232188926375"
            ]
          },
          "metadata": {},
          "execution_count": 41
        }
      ]
    },
    {
      "cell_type": "markdown",
      "metadata": {
        "id": "ILwNmBXCi2TL"
      },
      "source": [
        "### Print classification report of the model"
      ]
    },
    {
      "cell_type": "code",
      "metadata": {
        "colab": {
          "base_uri": "https://localhost:8080/"
        },
        "id": "J6QlE7dWCIcV",
        "outputId": "81014343-5445-428b-8c28-22ca4cf0134c"
      },
      "source": [
        "clf_rep = classification_report(y_test, pred)\n",
        "print(clf_rep)"
      ],
      "execution_count": null,
      "outputs": [
        {
          "output_type": "stream",
          "name": "stdout",
          "text": [
            "              precision    recall  f1-score   support\n",
            "\n",
            "      ATTACK       0.98      0.99      0.98       489\n",
            "      BENIGN       1.00      1.00      1.00      4550\n",
            "\n",
            "    accuracy                           1.00      5039\n",
            "   macro avg       0.99      0.99      0.99      5039\n",
            "weighted avg       1.00      1.00      1.00      5039\n",
            "\n"
          ]
        }
      ]
    },
    {
      "cell_type": "markdown",
      "metadata": {
        "id": "UD76x5dHlIm5"
      },
      "source": [
        "## Get the confusion matrix for the model prediction on testing data"
      ]
    },
    {
      "cell_type": "code",
      "metadata": {
        "colab": {
          "base_uri": "https://localhost:8080/"
        },
        "id": "BsryJMbSCfV9",
        "outputId": "0fd2f0f2-f544-411c-e80d-eb09bfd3c7ba"
      },
      "source": [
        "confusion_matrix(y_test, pred)"
      ],
      "execution_count": null,
      "outputs": [
        {
          "output_type": "execute_result",
          "data": {
            "text/plain": [
              "array([[ 484,    5],\n",
              "       [  10, 4540]])"
            ]
          },
          "metadata": {},
          "execution_count": 43
        }
      ]
    },
    {
      "cell_type": "code",
      "metadata": {
        "colab": {
          "base_uri": "https://localhost:8080/",
          "height": 333
        },
        "id": "DWU57J_rDi22",
        "outputId": "64d1c925-5707-4f30-95f3-d4dbd31be7ce"
      },
      "source": [
        "plot_confusion_matrix(clf_1, X_test, y_test)  \n",
        "plt.show()"
      ],
      "execution_count": null,
      "outputs": [
        {
          "output_type": "stream",
          "name": "stderr",
          "text": [
            "/usr/local/lib/python3.7/dist-packages/sklearn/utils/deprecation.py:87: FutureWarning: Function plot_confusion_matrix is deprecated; Function `plot_confusion_matrix` is deprecated in 1.0 and will be removed in 1.2. Use one of the class methods: ConfusionMatrixDisplay.from_predictions or ConfusionMatrixDisplay.from_estimator.\n",
            "  warnings.warn(msg, category=FutureWarning)\n"
          ]
        },
        {
          "output_type": "display_data",
          "data": {
            "image/png": "[encoded data removed]",
            "text/plain": [
              "<Figure size 432x288 with 2 Axes>"
            ]
          },
          "metadata": {
            "needs_background": "light"
          }
        }
      ]
    },
    {
      "cell_type": "markdown",
      "metadata": {
        "id": "7uPqrLLpjMsR"
      },
      "source": [
        "## Save model to test its performance on streaming datafrom kafka server"
      ]
    },
    {
      "cell_type": "code",
      "metadata": {
        "id": "Z3rC4P6T8U0n"
      },
      "source": [
        "filename = 'finalized_model.sav'\n",
        "pickle.dump(clf_1, open(filename, 'wb'))"
      ],
      "execution_count": null,
      "outputs": []
    },
    {
      "cell_type": "markdown",
      "metadata": {
        "id": "XYFVhRHJjbT9"
      },
      "source": [
        "## Use another model **KNN** to see its performance on the static data"
      ]
    },
    {
      "cell_type": "markdown",
      "metadata": {
        "id": "r9XHMI55lojH"
      },
      "source": [
        "### Initialize decision tree object and see its performance on 10 folds crossvalidation"
      ]
    },
    {
      "cell_type": "code",
      "metadata": {
        "id": "Seg4wXxWjacl"
      },
      "source": [
        "clf_2 = KNeighborsClassifier(n_jobs=-1)\n",
        "scores_2 = cross_val_score(clf_2, X_train, y_train, cv=10)"
      ],
      "execution_count": null,
      "outputs": []
    },
    {
      "cell_type": "markdown",
      "metadata": {
        "id": "9EVo-7XYlwHI"
      },
      "source": [
        "**The model reach average performance with score = 98.69%**"
      ]
    },
    {
      "cell_type": "code",
      "metadata": {
        "colab": {
          "base_uri": "https://localhost:8080/"
        },
        "id": "g481wRt0uMAH",
        "outputId": "a822cc8b-c3bf-44d6-e48b-82423004410a"
      },
      "source": [
        "# get the average scorefrom the list of scores from crossvalidations\n",
        "avg_2 = sum(scores_2)/len(scores_2)\n",
        "print(avg_2)"
      ],
      "execution_count": null,
      "outputs": [
        {
          "output_type": "stream",
          "name": "stdout",
          "text": [
            "0.9873957964078933\n"
          ]
        }
      ]
    },
    {
      "cell_type": "code",
      "metadata": {
        "colab": {
          "base_uri": "https://localhost:8080/"
        },
        "id": "FGJ9pk65QXfE",
        "outputId": "b8d2daba-21fb-48bd-ff25-23e4f79e4cfa"
      },
      "source": [
        "print(scores_2)"
      ],
      "execution_count": null,
      "outputs": [
        {
          "output_type": "stream",
          "name": "stdout",
          "text": [
            "[0.98660714 0.98809524 0.99007444 0.98709677 0.98759305 0.98560794\n",
            " 0.9866005  0.98610422 0.9866005  0.98957816]\n"
          ]
        }
      ]
    },
    {
      "cell_type": "markdown",
      "metadata": {
        "id": "LcoKSM5el66R"
      },
      "source": [
        "### Fit KNN model with training data after being balanced. And get its prediction for testing data."
      ]
    },
    {
      "cell_type": "code",
      "metadata": {
        "id": "DbtRPH9uQTDF"
      },
      "source": [
        "clf_2.fit(X_train, y_train)\n",
        "pred_2 = clf_2.predict(X_test)"
      ],
      "execution_count": null,
      "outputs": []
    },
    {
      "cell_type": "markdown",
      "metadata": {
        "id": "18aSaSUUmJrI"
      },
      "source": [
        "###  Get KNN model prediction probabilities to be used in ROC curve later"
      ]
    },
    {
      "cell_type": "code",
      "metadata": {
        "id": "AZtGSc1FQFR_"
      },
      "source": [
        "pred_proba_2 = clf_2.predict_proba(X_test)[::,1]"
      ],
      "execution_count": null,
      "outputs": []
    },
    {
      "cell_type": "markdown",
      "metadata": {
        "id": "wGR7gcERmjuX"
      },
      "source": [
        "### KNN accuracy and classification report"
      ]
    },
    {
      "cell_type": "code",
      "metadata": {
        "colab": {
          "base_uri": "https://localhost:8080/"
        },
        "id": "nPkIqBoEj-qO",
        "outputId": "98e1d69d-4d52-4e4b-fdb9-2723ed9ed7b4"
      },
      "source": [
        "accuracy_score(y_test, pred_2)"
      ],
      "execution_count": null,
      "outputs": [
        {
          "output_type": "execute_result",
          "data": {
            "text/plain": [
              "0.9867037110537805"
            ]
          },
          "metadata": {},
          "execution_count": 51
        }
      ]
    },
    {
      "cell_type": "code",
      "metadata": {
        "colab": {
          "base_uri": "https://localhost:8080/"
        },
        "id": "nsuRSJtCprcv",
        "outputId": "ed90b7e4-1185-42b1-9694-4fc4ae157694"
      },
      "source": [
        "clf_rep_2 = classification_report(y_test, pred_2)\n",
        "print(clf_rep_2)"
      ],
      "execution_count": null,
      "outputs": [
        {
          "output_type": "stream",
          "name": "stdout",
          "text": [
            "              precision    recall  f1-score   support\n",
            "\n",
            "      ATTACK       0.94      0.92      0.93       489\n",
            "      BENIGN       0.99      0.99      0.99      4550\n",
            "\n",
            "    accuracy                           0.99      5039\n",
            "   macro avg       0.97      0.96      0.96      5039\n",
            "weighted avg       0.99      0.99      0.99      5039\n",
            "\n"
          ]
        }
      ]
    },
    {
      "cell_type": "markdown",
      "metadata": {
        "id": "wBTkeYWslZRU"
      },
      "source": [
        "## Get the confusion matrix for the model prediction on testing data"
      ]
    },
    {
      "cell_type": "code",
      "metadata": {
        "colab": {
          "base_uri": "https://localhost:8080/",
          "height": 336
        },
        "id": "3z-7KIFcp1hP",
        "outputId": "53ebd994-f514-4ba7-b78b-d9ca83d53144"
      },
      "source": [
        "plot_confusion_matrix(clf_2, X_test, y_test)  \n",
        "plt.show()"
      ],
      "execution_count": null,
      "outputs": [
        {
          "output_type": "stream",
          "name": "stderr",
          "text": [
            "/usr/local/lib/python3.7/dist-packages/sklearn/utils/deprecation.py:87: FutureWarning: Function plot_confusion_matrix is deprecated; Function `plot_confusion_matrix` is deprecated in 1.0 and will be removed in 1.2. Use one of the class methods: ConfusionMatrixDisplay.from_predictions or ConfusionMatrixDisplay.from_estimator.\n",
            "  warnings.warn(msg, category=FutureWarning)\n"
          ]
        },
        {
          "output_type": "display_data",
          "data": {
            "image/png": "[encoded data removed]",
            "text/plain": [
              "<Figure size 432x288 with 2 Axes>"
            ]
          },
          "metadata": {
            "needs_background": "light"
          }
        }
      ]
    },
    {
      "cell_type": "markdown",
      "metadata": {
        "id": "btUwFyTKn2fi"
      },
      "source": [
        "### Get the traffic labels as numbers (0, 1) in an array that will be used in plotting ROC curve"
      ]
    },
    {
      "cell_type": "code",
      "metadata": {
        "id": "Ux7T6VRSdW5V"
      },
      "source": [
        "yy_test = []\n",
        "for i in range(len(y_test)):\n",
        "  if(y_test[i]=='BENIGN'):\n",
        "    y_test[i] = 0\n",
        "  else:\n",
        "    y_test[i] = 1\n",
        "\n",
        "  yy_test.append(y_test[i])"
      ],
      "execution_count": null,
      "outputs": []
    },
    {
      "cell_type": "markdown",
      "metadata": {
        "id": "_V9hAV4mqCU-"
      },
      "source": [
        "## Method which plots ROC curve for both models"
      ]
    },
    {
      "cell_type": "code",
      "metadata": {
        "id": "RW3cxNTb6nQt"
      },
      "source": [
        "def plot_roc(pred_proba, pred_proba_2, y_test):\n",
        "  # TPR, FPR, Thrshold for both models Decision Tree and KNN\n",
        "  fpr_1, tpr_1, thresh_1 = roc_curve(y_test, pred_proba, pos_label=0)\n",
        "  fpr_2, tpr_2, thresh_2 = roc_curve(y_test, pred_proba_2, pos_label=0)\n",
        "\n",
        "  # tpr, fpr, threshold for random classifer \n",
        "  random_probs = [0 for i in range(len(y_test))]\n",
        "  fpr_r, tpr_r, thresh_r = roc_curve(y_test, random_probs, pos_label=0)\n",
        "\n",
        "  plt.style.use('seaborn')\n",
        "  plt.plot(fpr_1, tpr_1, linestyle='--',color='red', label='Decision Tree')\n",
        "  plt.plot(fpr_2, tpr_2, linestyle='--',color='green', label='KNN')\n",
        "  plt.plot(fpr_r, tpr_r, linestyle='--', color='blue')\n",
        "\n",
        "  plt.title('ROC curve')\n",
        "  plt.xlabel('False Positive Rate')\n",
        "  plt.ylabel('True Positive rate')\n",
        "\n",
        "  plt.legend(loc='best')\n",
        "  plt.savefig('ROC Curve',dpi=300)\n",
        "  plt.show()"
      ],
      "execution_count": null,
      "outputs": []
    },
    {
      "cell_type": "code",
      "metadata": {
        "colab": {
          "base_uri": "https://localhost:8080/",
          "height": 376
        },
        "id": "_XLo6LZ28Q9E",
        "outputId": "1294aa33-f100-4415-e37b-302831b37629"
      },
      "source": [
        "# plot ROC curve from both models decision tree, and knn\n",
        "plot_roc(pred_proba, pred_proba_2, yy_test)"
      ],
      "execution_count": null,
      "outputs": [
        {
          "output_type": "display_data",
          "data": {
            "image/png": "[encoded data removed]",
            "text/plain": [
              "<Figure size 576x396 with 1 Axes>"
            ]
          },
          "metadata": {}
        }
      ]
    },
    {
      "cell_type": "markdown",
      "metadata": {
        "id": "NmTPlMsQ8CVS"
      },
      "source": [
        "## References:\n",
        "### - Categorical, C., 2015. Check which columns in DataFrame are Categorical. [online] Stack Overflow. Available at: <https://stackoverflow.com/questions/29803093/check-which-columns-in-dataframe-are-categorical>\n",
        "### - scikit-learn. 2021. sklearn.ensemble.AdaBoostClassifier. [online] Available at: <https://scikit-learn.org/stable/modules/generated/sklearn.ensemble.AdaBoostClassifier.html>\n",
        "### - Analytics India Magazine. 2021. Hands-On Guide To Automated Feature Selection Using Boruta. [online] Available at: <https://analyticsindiamag.com/hands-on-guide-to-automated-feature-selection-using-boruta/>"
      ]
    },
    {
      "cell_type": "code",
      "metadata": {
        "id": "wzmmBHjz8Qlb"
      },
      "source": [
        ""
      ],
      "execution_count": null,
      "outputs": []
    }
  ]
}